{
 "cells": [
  {
   "cell_type": "markdown",
   "id": "63d70272-a65c-484c-9e25-0ffa047663bd",
   "metadata": {},
   "source": [
    "___\n",
    "\n",
    "<a href='https://www.youtube.com/@TechWithDaveworld'><img src='../TechWithDaveworldLogo.png'/></a>\n",
    "___\n",
    "<center><em>Content Copyright by Tech With Daveworld</em></center>"
   ]
  },
  {
   "cell_type": "markdown",
   "id": "98a4c075-f97c-49bc-aea6-66eaf6ba02da",
   "metadata": {},
   "source": [
    "# 🐍 Python Beginner Exercises\n",
    "\n",
    "Welcome to your Python practice session!\n",
    "\n",
    "These exercises are designed to help you practice **Python control flow statements** such as:\n",
    "- `if`\n",
    "- `else`\n",
    "- `elif`\n",
    "- `while` loops\n",
    "- `for` loops\n",
    "\n",
    "---\n",
    "\n",
    "⚠ **IMPORTANT RULES**  \n",
    "- ❌ Do **NOT** use any AI tools (like ChatGPT, Gemini, Copilot, etc.) to solve these problems.  \n",
    "- ✅ Try as much as possible to write the code yourself.\n",
    "- ✅ You are allowed to use:\n",
    "  - Google search (to check Python syntax or search for examples)\n",
    "  - Python documentation (provided for you in class)\n",
    "  - Your class notes and materials\n",
    "  - Python lectures available on the youtube channel\n",
    "\n",
    "💡 The goal is for you to develop problem-solving skills, not just to get the answer.\n",
    "\n",
    "---"
   ]
  },
  {
   "cell_type": "markdown",
   "id": "6bbaef55-d180-4433-ad5a-4b44d257def1",
   "metadata": {},
   "source": [
    "## **Exercise 1: Even or Odd Counter (Using for loop and if statements)**\n",
    "\n",
    "### Task:\n",
    "Write a Python program that:\n",
    "\n",
    "1. Asks the user to enter a positive integer (N).\n",
    "2. The program then prints all numbers from 1 to N.\n",
    "3. For each number, it prints whether the number is `\"Even\"` or `\"Odd\"`.\n",
    "\n",
    "### Example Output:\n",
    "\n",
    "Enter a positive integer: 5\n",
    "\n",
    "- 1 is Odd\n",
    "- 2 is Even\n",
    "- 3 is Odd\n",
    "- 4 is Even\n",
    "- 5 is Odd\n",
    "  \n",
    "### Hints:\n",
    "- Use a `for` loop to loop through numbers from 1 to N.\n",
    "- Use the modulo operator `%` to check if a number is even or odd."
   ]
  },
  {
   "cell_type": "code",
   "execution_count": null,
   "id": "28622c80-45d8-44ca-a3be-9382f81236dc",
   "metadata": {},
   "outputs": [],
   "source": []
  },
  {
   "cell_type": "code",
   "execution_count": null,
   "id": "cf5c70be-dfa6-4f1e-8b8b-af0aae3a50b8",
   "metadata": {},
   "outputs": [],
   "source": []
  },
  {
   "cell_type": "markdown",
   "id": "c30948f9-dce8-4683-b893-70637ec868fd",
   "metadata": {},
   "source": [
    "## **Exercise 2: Simple ATM Simulation (Using while loop, if, elif, else)**\n",
    "\n",
    "### Task:\n",
    "Write a Python program that simulates a very basic ATM system.\n",
    "\n",
    "1. Set the initial account balance to $1000.\n",
    "2. Display the following menu to the user:\n",
    "\n",
    "\n",
    "Welcome to the ATM!\n",
    "\n",
    "Check Balance\n",
    "\n",
    "Deposit\n",
    "\n",
    "Withdraw\n",
    "\n",
    "Exit\n",
    "\n",
    "\n",
    "\n",
    "3. Use a `while` loop to keep showing the menu until the user chooses to exit.\n",
    "4. If the user selects:\n",
    "   - `1`: Print the current balance.\n",
    "   - `2`: Ask for deposit amount and add it to the balance.\n",
    "   - `3`: Ask for withdrawal amount. If there is enough balance, subtract it. If not, print `\"Insufficient funds.\"`\n",
    "   - `4`: Exit the program.\n",
    "5. If the user enters an invalid option, print `\"Invalid option, please try again.\"`\n",
    "\n",
    "### Hints:\n",
    "- Use `int(input(\"...\"))` to get user input.\n",
    "- Use `if`, `elif`, and `else` statements to handle choices.\n",
    "\n",
    "\n"
   ]
  },
  {
   "cell_type": "code",
   "execution_count": null,
   "id": "b3ffc381-5ec2-49c5-a619-4aaf95f87d07",
   "metadata": {},
   "outputs": [],
   "source": []
  },
  {
   "cell_type": "code",
   "execution_count": null,
   "id": "bda1b161-cf4c-4221-8e19-c6d85ffa8422",
   "metadata": {},
   "outputs": [],
   "source": []
  },
  {
   "cell_type": "markdown",
   "id": "07ff02e1-3f38-4d30-a273-b1340041891b",
   "metadata": {},
   "source": [
    "---\n",
    "\n",
    "## **Exercise 3: Guessing Game**\n",
    "\n",
    "### Task:\n",
    "Create a number guessing game where:\n",
    "\n",
    "1. The computer randomly selects a number between 1 and 50.\n",
    "2. The user tries to guess the number.\n",
    "3. If the guess is out of range (not between 1 and 50), print `\"OUT OF BOUNDS\"`.\n",
    "4. If the guess is correct, print `\"Congratulations! You guessed the number!\"` and how many guesses it took.\n",
    "5. If it's the first guess and within 5 numbers of the correct answer, print `\"WARM!\"` else print `\"COLD!\"`.\n",
    "6. For subsequent guesses:\n",
    "   - If the guess is closer than the previous guess, print `\"WARMER!\"`.\n",
    "   - If the guess is farther than the previous guess, print `\"COLDER!\"`.\n",
    "7. Keep looping until the user guesses correctly.\n",
    "\n",
    "### Hints:\n",
    "- Use `random.randint(1, 50)` to generate the random number.\n",
    "- Use `abs()` to calculate the distance between guesses.\n",
    "\n",
    "---"
   ]
  },
  {
   "cell_type": "code",
   "execution_count": null,
   "id": "38000b7c-1d74-4f3b-b351-5c64fea873b7",
   "metadata": {},
   "outputs": [],
   "source": []
  },
  {
   "cell_type": "code",
   "execution_count": null,
   "id": "f1f8c41d-aeeb-4450-a629-bdadeb40c98f",
   "metadata": {},
   "outputs": [],
   "source": []
  },
  {
   "cell_type": "markdown",
   "id": "0afc58e8-7ed0-4aec-b701-4b3c8a384b48",
   "metadata": {},
   "source": [
    "---\n",
    "\n",
    "🚀 **Good luck!**"
   ]
  }
 ],
 "metadata": {
  "kernelspec": {
   "display_name": "Python [conda env:base] *",
   "language": "python",
   "name": "conda-base-py"
  },
  "language_info": {
   "codemirror_mode": {
    "name": "ipython",
    "version": 3
   },
   "file_extension": ".py",
   "mimetype": "text/x-python",
   "name": "python",
   "nbconvert_exporter": "python",
   "pygments_lexer": "ipython3",
   "version": "3.12.7"
  }
 },
 "nbformat": 4,
 "nbformat_minor": 5
}
