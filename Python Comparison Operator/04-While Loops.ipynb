{
 "cells": [
  {
   "cell_type": "markdown",
   "id": "86a18633-3add-4aff-a6ab-6e4201167c27",
   "metadata": {},
   "source": [
    "# While Loops"
   ]
  },
  {
   "cell_type": "code",
   "execution_count": 1,
   "id": "e661e67e-da27-4492-9160-71540504532c",
   "metadata": {},
   "outputs": [
    {
     "name": "stdout",
     "output_type": "stream",
     "text": [
      "x is currently:  0\n",
      "X is still less than 10, adding 1 to x\n",
      "x is currently:  1\n",
      "X is still less than 10, adding 1 to x\n",
      "x is currently:  2\n",
      "X is still less than 10, adding 1 to x\n",
      "x is currently:  3\n",
      "X is still less than 10, adding 1 to x\n",
      "x is currently:  4\n",
      "X is still less than 10, adding 1 to x\n",
      "x is currently:  5\n",
      "X is still less than 10, adding 1 to x\n",
      "x is currently:  6\n",
      "X is still less than 10, adding 1 to x\n",
      "x is currently:  7\n",
      "X is still less than 10, adding 1 to x\n",
      "x is currently:  8\n",
      "X is still less than 10, adding 1 to x\n",
      "x is currently:  9\n",
      "X is still less than 10, adding 1 to x\n"
     ]
    }
   ],
   "source": [
    "x = 0\n",
    "\n",
    "while x < 10:\n",
    "    print(\"x is currently: \", x)\n",
    "    print(\"X is still less than 10, adding 1 to x\")\n",
    "    x += 1"
   ]
  },
  {
   "cell_type": "code",
   "execution_count": 2,
   "id": "af6c63e4-52a4-4b9f-a327-e2c56b0eb827",
   "metadata": {},
   "outputs": [
    {
     "name": "stdout",
     "output_type": "stream",
     "text": [
      "5 * 1 = 5\n",
      "5 * 2 = 10\n",
      "5 * 3 = 15\n",
      "5 * 4 = 20\n",
      "5 * 5 = 25\n",
      "5 * 6 = 30\n",
      "5 * 7 = 35\n",
      "5 * 8 = 40\n",
      "5 * 9 = 45\n",
      "5 * 10 = 50\n",
      "5 * 11 = 55\n",
      "5 * 12 = 60\n"
     ]
    }
   ],
   "source": [
    "# print out the 5 multiplication table\n",
    "\n",
    "mul = 5\n",
    "max_num = 12\n",
    "start_point = 1\n",
    "\n",
    "while start_point <= max_num:\n",
    "    ans = mul * start_point\n",
    "    print(f\"{mul} * {start_point} = {ans}\")\n",
    "    start_point += 1"
   ]
  },
  {
   "cell_type": "markdown",
   "id": "182265e2-acd4-49f9-8905-abf4aeb1ef80",
   "metadata": {},
   "source": [
    "## Break, Continue"
   ]
  },
  {
   "cell_type": "code",
   "execution_count": 4,
   "id": "e7cdb8c3-fa0b-4581-afbf-d8230808bce1",
   "metadata": {},
   "outputs": [
    {
     "name": "stdout",
     "output_type": "stream",
     "text": [
      "x is currently.  0\n",
      "X is still less than 10, adding 1 to x\n",
      "Continuing...\n",
      "x is currently.  1\n",
      "X is still less than 10, adding 1 to x\n",
      "Continuing...\n",
      "x is currently.  2\n",
      "X is still less than 10, adding 1 to x\n",
      "x==3\n",
      "x is currently.  3\n",
      "X is still less than 10, adding 1 to x\n",
      "Continuing...\n",
      "x is currently.  4\n",
      "X is still less than 10, adding 1 to x\n",
      "Continuing...\n",
      "x is currently.  5\n",
      "X is still less than 10, adding 1 to x\n",
      "Continuing...\n",
      "x is currently.  6\n",
      "X is still less than 10, adding 1 to x\n",
      "Continuing...\n",
      "x is currently.  7\n",
      "X is still less than 10, adding 1 to x\n",
      "Continuing...\n",
      "x is currently.  8\n",
      "X is still less than 10, adding 1 to x\n",
      "Continuing...\n",
      "x is currently.  9\n",
      "X is still less than 10, adding 1 to x\n",
      "Continuing...\n"
     ]
    }
   ],
   "source": [
    "x = 0\n",
    "\n",
    "while x < 10:\n",
    "    print(\"x is currently. \", x)\n",
    "    print(\"X is still less than 10, adding 1 to x\")\n",
    "    x += 1\n",
    "    if x == 3:\n",
    "        print(\"x==3\")\n",
    "    else:\n",
    "        print(\"Continuing...\")\n",
    "        continue"
   ]
  },
  {
   "cell_type": "code",
   "execution_count": 5,
   "id": "5c9e311a-1552-4998-b483-f081c2162142",
   "metadata": {},
   "outputs": [
    {
     "name": "stdout",
     "output_type": "stream",
     "text": [
      "x is currently.  0\n",
      "X is still less than 10, adding 1 to x\n",
      "Continuing...\n",
      "x is currently.  1\n",
      "X is still less than 10, adding 1 to x\n",
      "Continuing...\n",
      "x is currently.  2\n",
      "X is still less than 10, adding 1 to x\n",
      "x==3\n"
     ]
    }
   ],
   "source": [
    "x = 0\n",
    "\n",
    "while x < 10:\n",
    "    print(\"x is currently. \", x)\n",
    "    print(\"X is still less than 10, adding 1 to x\")\n",
    "    x += 1\n",
    "    if x == 3:\n",
    "        print(\"x==3\")\n",
    "        break\n",
    "    else:\n",
    "        print(\"Continuing...\")\n",
    "        continue"
   ]
  },
  {
   "cell_type": "code",
   "execution_count": null,
   "id": "86d7adaf-a6a3-4977-9263-3ab54b1c33ac",
   "metadata": {},
   "outputs": [],
   "source": []
  }
 ],
 "metadata": {
  "kernelspec": {
   "display_name": "Python [conda env:base] *",
   "language": "python",
   "name": "conda-base-py"
  },
  "language_info": {
   "codemirror_mode": {
    "name": "ipython",
    "version": 3
   },
   "file_extension": ".py",
   "mimetype": "text/x-python",
   "name": "python",
   "nbconvert_exporter": "python",
   "pygments_lexer": "ipython3",
   "version": "3.12.7"
  }
 },
 "nbformat": 4,
 "nbformat_minor": 5
}
