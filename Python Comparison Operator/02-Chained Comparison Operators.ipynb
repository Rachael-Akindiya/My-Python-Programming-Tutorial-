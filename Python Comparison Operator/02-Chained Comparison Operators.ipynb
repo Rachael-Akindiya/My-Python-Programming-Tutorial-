{
 "cells": [
  {
   "cell_type": "markdown",
   "id": "541202ec-20fd-45b5-8aad-7c49a767c8e8",
   "metadata": {},
   "source": [
    "### Chained Comparison Operators"
   ]
  },
  {
   "cell_type": "code",
   "execution_count": 4,
   "id": "b2aed52c-c1e2-4b6a-b731-053ec3743a47",
   "metadata": {},
   "outputs": [
    {
     "data": {
      "text/plain": [
       "True"
      ]
     },
     "execution_count": 4,
     "metadata": {},
     "output_type": "execute_result"
    }
   ],
   "source": [
    "1 < 2 < 3\n",
    "\n",
    "# Break down\n",
    "# Is 1 < 2 -> True\n",
    "# And is 2 < 3 -> True\n",
    "# True and True -> True"
   ]
  },
  {
   "cell_type": "code",
   "execution_count": 5,
   "id": "14ba745f-8e9c-45f7-9eca-af55c5103e42",
   "metadata": {},
   "outputs": [
    {
     "data": {
      "text/plain": [
       "True"
      ]
     },
     "execution_count": 5,
     "metadata": {},
     "output_type": "execute_result"
    }
   ],
   "source": [
    "1 < 2 and 2 < 3\n",
    "\n",
    "# Break down\n",
    "# 1 < 2 -> True\n",
    "# 2 < 3-> True \n",
    "# True and True -> True"
   ]
  },
  {
   "cell_type": "code",
   "execution_count": 6,
   "id": "5e09087f-91e6-4063-be12-860c41c7b8e0",
   "metadata": {},
   "outputs": [],
   "source": [
    "# And is to make sure that the two condition has to be true for it to return to a true statement."
   ]
  },
  {
   "cell_type": "code",
   "execution_count": 9,
   "id": "94d84df9-6bb5-4f64-baff-4244c527f626",
   "metadata": {},
   "outputs": [
    {
     "data": {
      "text/plain": [
       "False"
      ]
     },
     "execution_count": 9,
     "metadata": {},
     "output_type": "execute_result"
    }
   ],
   "source": [
    "2 > 3 and 2 > 1\n",
    "\n",
    "# Breaking this down would be\n",
    "# 2 > 3 -> False\n",
    "# 2 > 1 -> True\n",
    "# False and True -> False"
   ]
  },
  {
   "cell_type": "code",
   "execution_count": 11,
   "id": "3aa3131d-2182-4f84-bd02-0a951f7a5ecc",
   "metadata": {},
   "outputs": [
    {
     "data": {
      "text/plain": [
       "True"
      ]
     },
     "execution_count": 11,
     "metadata": {},
     "output_type": "execute_result"
    }
   ],
   "source": [
    "2 > 3 or 2 > 1\n",
    "\n",
    "# Breaking this down would be\n",
    "# 2 > 3 -> False\n",
    "# 2 > 1 -> True\n",
    "# False or True -> True"
   ]
  },
  {
   "cell_type": "code",
   "execution_count": 12,
   "id": "02223cfe-5955-4309-9c66-fcae23baccf8",
   "metadata": {},
   "outputs": [
    {
     "data": {
      "text/plain": [
       "True"
      ]
     },
     "execution_count": 12,
     "metadata": {},
     "output_type": "execute_result"
    }
   ],
   "source": [
    "1 == 2 or 2 < 3\n",
    "\n",
    "# Breaking this down would be\n",
    "# 1 = 2 -> False\n",
    "# 2 < 3 -> True\n",
    "# False or True -> False"
   ]
  },
  {
   "cell_type": "code",
   "execution_count": 13,
   "id": "247cc670-391b-43ba-b363-71df686f13dd",
   "metadata": {},
   "outputs": [
    {
     "data": {
      "text/plain": [
       "True"
      ]
     },
     "execution_count": 13,
     "metadata": {},
     "output_type": "execute_result"
    }
   ],
   "source": [
    "1 == 1 or 100 == 1"
   ]
  },
  {
   "cell_type": "code",
   "execution_count": 15,
   "id": "442ee6c0-a2a7-48fd-bc04-3aea413ba36e",
   "metadata": {},
   "outputs": [
    {
     "data": {
      "text/plain": [
       "False"
      ]
     },
     "execution_count": 15,
     "metadata": {},
     "output_type": "execute_result"
    }
   ],
   "source": [
    "# Write a code to check if a user is qualified to get admitted into a university\n",
    "\n",
    "user_age = 20\n",
    "\n",
    "# Check if the user_age is less than 16\n",
    "\n",
    "user_age < 16"
   ]
  },
  {
   "cell_type": "code",
   "execution_count": 23,
   "id": "55477db8-22fc-44a1-bfd1-aecd1d77ef89",
   "metadata": {},
   "outputs": [
    {
     "name": "stdin",
     "output_type": "stream",
     "text": [
      "Enter your age 12\n"
     ]
    },
    {
     "name": "stdout",
     "output_type": "stream",
     "text": [
      "Your age is 12\n"
     ]
    }
   ],
   "source": [
    "user_age = int(input(\"Enter your age\"))\n",
    "print(f\"Your age is {user_age}\")"
   ]
  },
  {
   "cell_type": "code",
   "execution_count": 24,
   "id": "cf9f4cee-653a-4eb9-a97a-7a57bf7a8bce",
   "metadata": {},
   "outputs": [
    {
     "data": {
      "text/plain": [
       "int"
      ]
     },
     "execution_count": 24,
     "metadata": {},
     "output_type": "execute_result"
    }
   ],
   "source": [
    "type(user_age)"
   ]
  },
  {
   "cell_type": "code",
   "execution_count": 26,
   "id": "45893178-7436-4b00-a544-a5a66d94707f",
   "metadata": {},
   "outputs": [
    {
     "name": "stdin",
     "output_type": "stream",
     "text": [
      "Enter your age 22\n"
     ]
    },
    {
     "name": "stdout",
     "output_type": "stream",
     "text": [
      "Your age is 22\n",
      "Congrats! you can be admitted into our university\n"
     ]
    }
   ],
   "source": [
    "user_age = int(input(\"Enter your age\"))\n",
    "print(f\"Your age is {user_age}\")\n",
    "\n",
    "if user_age < 16:\n",
    "    print(f\"Sorry you can't be admitted because you are {user_age} and it's less than 16\")\n",
    "\n",
    "else:\n",
    "    print(\"Congrats! you can be admitted into our university\")"
   ]
  },
  {
   "cell_type": "markdown",
   "id": "8c780ae7-ed2a-4354-aa30-ff064aa7bca2",
   "metadata": {},
   "source": [
    "## Practice"
   ]
  },
  {
   "cell_type": "code",
   "execution_count": 31,
   "id": "8b7c53ab-3cd0-4d9b-9fcd-a8d707fd5274",
   "metadata": {},
   "outputs": [
    {
     "data": {
      "text/plain": [
       "False"
      ]
     },
     "execution_count": 31,
     "metadata": {},
     "output_type": "execute_result"
    }
   ],
   "source": [
    "2 != 1 and 4 > 10\n",
    "# Break down\n",
    "# 2 is not equals to 1 -> True\n",
    "# 4 is greater than 10 -> False\n",
    "# True and False -> False"
   ]
  },
  {
   "cell_type": "code",
   "execution_count": 32,
   "id": "59afeb59-298b-4fbc-8375-b0f97d302684",
   "metadata": {},
   "outputs": [
    {
     "data": {
      "text/plain": [
       "True"
      ]
     },
     "execution_count": 32,
     "metadata": {},
     "output_type": "execute_result"
    }
   ],
   "source": [
    "195 <= 250 or 10 * 10 == 100\n",
    "# Break down\n",
    "# 195 is less than and not equals to 250 -> True\n",
    "# 10 multiplied by 10 equals 100 -> True\n",
    "# True or False -> False"
   ]
  },
  {
   "cell_type": "code",
   "execution_count": 44,
   "id": "52ab6c8c-7dc6-4e5c-adfe-63b8d2a6cdee",
   "metadata": {},
   "outputs": [
    {
     "data": {
      "text/plain": [
       "False"
      ]
     },
     "execution_count": 44,
     "metadata": {},
     "output_type": "execute_result"
    }
   ],
   "source": [
    "# Write a code to check if an individual working as a civil servant is on level 12\n",
    "\n",
    "individual_level = 8\n",
    "\n",
    "# check if individual_level is greater than or equals to Level 12\n",
    "\n",
    "individual_level >=  12"
   ]
  },
  {
   "cell_type": "code",
   "execution_count": 50,
   "id": "daf27eec-9347-4843-ab7a-5e52df9622f0",
   "metadata": {},
   "outputs": [
    {
     "name": "stdin",
     "output_type": "stream",
     "text": [
      "Enter your level 8\n"
     ]
    },
    {
     "name": "stdout",
     "output_type": "stream",
     "text": [
      "Your level is 8\n"
     ]
    }
   ],
   "source": [
    "individual_level = int(input(\"Enter your level\"))\n",
    "print(f\"Your level is {individual_level}\")"
   ]
  },
  {
   "cell_type": "code",
   "execution_count": 49,
   "id": "db0b691b-3ae6-42ac-b4b1-3242f2792c30",
   "metadata": {},
   "outputs": [
    {
     "name": "stdin",
     "output_type": "stream",
     "text": [
      "Enter your level 8\n"
     ]
    },
    {
     "name": "stdout",
     "output_type": "stream",
     "text": [
      "Your level is 8\n",
      "Sorry! You are not eligible for the next Conversion Examination because you are on 8 and it's less than and not equals to 12\n"
     ]
    }
   ],
   "source": [
    "individual_level=int(input(\"Enter your level\"))\n",
    "print(f\"Your level is {individual_level}\")\n",
    "\n",
    "if individual_level < 12:\n",
    "    print(f\"Sorry! You are not eligible for the next Conversion Examination because you are on {individual_level} and it's less than and not equals to 12\")\n",
    "\n",
    "else:\n",
    "    print(f\"Congrats! You are eligible for the next Conversion Examination\")"
   ]
  },
  {
   "cell_type": "code",
   "execution_count": null,
   "id": "b0e29a22-53b7-476d-be40-96349d9d384c",
   "metadata": {},
   "outputs": [],
   "source": []
  }
 ],
 "metadata": {
  "kernelspec": {
   "display_name": "Python [conda env:base] *",
   "language": "python",
   "name": "conda-base-py"
  },
  "language_info": {
   "codemirror_mode": {
    "name": "ipython",
    "version": 3
   },
   "file_extension": ".py",
   "mimetype": "text/x-python",
   "name": "python",
   "nbconvert_exporter": "python",
   "pygments_lexer": "ipython3",
   "version": "3.12.7"
  }
 },
 "nbformat": 4,
 "nbformat_minor": 5
}
