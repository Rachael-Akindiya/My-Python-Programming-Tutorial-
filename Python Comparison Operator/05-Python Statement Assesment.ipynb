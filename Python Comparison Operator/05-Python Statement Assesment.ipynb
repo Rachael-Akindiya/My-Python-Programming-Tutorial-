{
 "cells": [
  {
   "cell_type": "markdown",
   "id": "63d70272-a65c-484c-9e25-0ffa047663bd",
   "metadata": {},
   "source": [
    "___\n",
    "\n",
    "<a href='https://www.youtube.com/@TechWithDaveworld'><img src='../TechWithDaveworldLogo.png'/></a>\n",
    "___\n",
    "<center><em>Content Copyright by Tech With Daveworld</em></center>"
   ]
  },
  {
   "cell_type": "markdown",
   "id": "98a4c075-f97c-49bc-aea6-66eaf6ba02da",
   "metadata": {},
   "source": [
    "# 🐍 Python Beginner Exercises\n",
    "\n",
    "Welcome to your Python practice session!\n",
    "\n",
    "These exercises are designed to help you practice **Python control flow statements** such as:\n",
    "- `if`\n",
    "- `else`\n",
    "- `elif`\n",
    "- `while` loops\n",
    "- `for` loops\n",
    "\n",
    "---\n",
    "\n",
    "⚠ **IMPORTANT RULES**  \n",
    "- ❌ Do **NOT** use any AI tools (like ChatGPT, Gemini, Copilot, etc.) to solve these problems.  \n",
    "- ✅ Try as much as possible to write the code yourself.\n",
    "- ✅ You are allowed to use:\n",
    "  - Google search (to check Python syntax or search for examples)\n",
    "  - Python documentation (provided for you in class)\n",
    "  - Your class notes and materials\n",
    "  - Python lectures available on the youtube channel\n",
    "\n",
    "💡 The goal is for you to develop problem-solving skills, not just to get the answer.\n",
    "\n",
    "---"
   ]
  },
  {
   "cell_type": "markdown",
   "id": "6bbaef55-d180-4433-ad5a-4b44d257def1",
   "metadata": {},
   "source": [
    "## **Exercise 1: Even or Odd Counter (Using for loop and if statements)**\n",
    "\n",
    "### Task:\n",
    "Write a Python program that:\n",
    "\n",
    "1. Asks the user to enter a positive integer (N).\n",
    "2. The program then prints all numbers from 1 to N.\n",
    "3. For each number, it prints whether the number is `\"Even\"` or `\"Odd\"`.\n",
    "\n",
    "### Example Output:\n",
    "\n",
    "Enter a positive integer: 5\n",
    "\n",
    "- 1 is Odd\n",
    "- 2 is Even\n",
    "- 3 is Odd\n",
    "- 4 is Even\n",
    "- 5 is Odd\n",
    "  \n",
    "### Hints:\n",
    "- Use a `for` loop to loop through numbers from 1 to N.\n",
    "- Use the modulo operator `%` to check if a number is even or odd."
   ]
  },
  {
   "cell_type": "code",
   "execution_count": 1,
   "id": "28622c80-45d8-44ca-a3be-9382f81236dc",
   "metadata": {},
   "outputs": [
    {
     "name": "stdin",
     "output_type": "stream",
     "text": [
      "Enter a positive integer 20\n"
     ]
    },
    {
     "name": "stdout",
     "output_type": "stream",
     "text": [
      "User postive integer is 20\n"
     ]
    }
   ],
   "source": [
    "user_num = 20\n",
    "user_num = int(input(\"Enter a positive integer\"))\n",
    "print(f\"User postive integer is {user_num}\")"
   ]
  },
  {
   "cell_type": "code",
   "execution_count": 3,
   "id": "cf5c70be-dfa6-4f1e-8b8b-af0aae3a50b8",
   "metadata": {},
   "outputs": [],
   "source": [
    "# List all numbers from 1 to N (positive integer - 20)\n",
    "\n",
    "list1 = [1, 2, 3, 4, 5, 6, 7, 8, 9, 10, 11, 12, 13, 14, 15, 16, 17, 18, 19, 20]for user_num in list1:\n",
    "    print(user_num)"
   ]
  },
  {
   "cell_type": "code",
   "execution_count": 4,
   "id": "39c617a8-f0a2-4845-b462-f6547e536cdd",
   "metadata": {},
   "outputs": [
    {
     "name": "stdout",
     "output_type": "stream",
     "text": [
      "1\n",
      "2\n",
      "3\n",
      "4\n",
      "5\n",
      "6\n",
      "7\n",
      "8\n",
      "9\n",
      "10\n",
      "11\n",
      "12\n",
      "13\n",
      "14\n",
      "15\n",
      "16\n",
      "17\n",
      "18\n",
      "19\n",
      "20\n"
     ]
    }
   ],
   "source": [
    "for user_num in list1:\n",
    "    print(user_num)"
   ]
  },
  {
   "cell_type": "code",
   "execution_count": 6,
   "id": "ca01cc18-6b82-4ba5-a9db-a9071b9dfaef",
   "metadata": {},
   "outputs": [
    {
     "data": {
      "text/plain": [
       "0"
      ]
     },
     "execution_count": 6,
     "metadata": {},
     "output_type": "execute_result"
    }
   ],
   "source": [
    "20 % 2\n"
   ]
  },
  {
   "cell_type": "code",
   "execution_count": 7,
   "id": "02aa1824-e107-49ed-8201-b6a4da595773",
   "metadata": {},
   "outputs": [
    {
     "data": {
      "text/plain": [
       "1"
      ]
     },
     "execution_count": 7,
     "metadata": {},
     "output_type": "execute_result"
    }
   ],
   "source": [
    "19 % 2"
   ]
  },
  {
   "cell_type": "code",
   "execution_count": 8,
   "id": "5b1a1b97-e3cf-4b5d-8fa4-ecc4d333a485",
   "metadata": {},
   "outputs": [
    {
     "name": "stdout",
     "output_type": "stream",
     "text": [
      "The number 1 is Odd\n",
      "The number 2 is Even\n",
      "The number 3 is Odd\n",
      "The number 4 is Even\n",
      "The number 5 is Odd\n",
      "The number 6 is Even\n",
      "The number 7 is Odd\n",
      "The number 8 is Even\n",
      "The number 9 is Odd\n",
      "The number 10 is Even\n",
      "The number 11 is Odd\n",
      "The number 12 is Even\n",
      "The number 13 is Odd\n",
      "The number 14 is Even\n",
      "The number 15 is Odd\n",
      "The number 16 is Even\n",
      "The number 17 is Odd\n",
      "The number 18 is Even\n",
      "The number 19 is Odd\n",
      "The number 20 is Even\n"
     ]
    }
   ],
   "source": [
    "# Print out whether the number is even or odd\n",
    "\n",
    "for user_num in list1:\n",
    "    if user_num % 2 == 0 :\n",
    "        print(f\"The number {user_num} is Even\")\n",
    "    else:\n",
    "        print(f\"The number {user_num} is Odd\")"
   ]
  },
  {
   "cell_type": "markdown",
   "id": "c30948f9-dce8-4683-b893-70637ec868fd",
   "metadata": {},
   "source": [
    "## **Exercise 2: Simple ATM Simulation (Using while loop, if, elif, else)**\n",
    "\n",
    "### Task:\n",
    "Write a Python program that simulates a very basic ATM system.\n",
    "\n",
    "1. Set the initial account balance to $1000.\n",
    "2. Display the following menu to the user:\n",
    "\n",
    "\n",
    "Welcome to the ATM!\n",
    "\n",
    "Check Balance\n",
    "\n",
    "Deposit\n",
    "\n",
    "Withdraw\n",
    "\n",
    "Exit\n",
    "\n",
    "\n",
    "\n",
    "3. Use a `while` loop to keep showing the menu until the user chooses to exit.\n",
    "4. If the user selects:\n",
    "   - `1`: Print the current balance.\n",
    "   - `2`: Ask for deposit amount and add it to the balance.\n",
    "   - `3`: Ask for withdrawal amount. If there is enough balance, subtract it. If not, print `\"Insufficient funds.\"`\n",
    "   - `4`: Exit the program.\n",
    "5. If the user enters an invalid option, print `\"Invalid option, please try again.\"`\n",
    "\n",
    "### Hints:\n",
    "- Use `int(input(\"...\"))` to get user input.\n",
    "- Use `if`, `elif`, and `else` statements to handle choices.\n",
    "\n",
    "\n"
   ]
  },
  {
   "cell_type": "code",
   "execution_count": 6,
   "id": "b3ffc381-5ec2-49c5-a619-4aaf95f87d07",
   "metadata": {},
   "outputs": [
    {
     "ename": "SyntaxError",
     "evalue": "invalid syntax (2714659251.py, line 38)",
     "output_type": "error",
     "traceback": [
      "\u001b[1;36m  Cell \u001b[1;32mIn[6], line 38\u001b[1;36m\u001b[0m\n\u001b[1;33m    elif choice == \"4\":\u001b[0m\n\u001b[1;37m    ^\u001b[0m\n\u001b[1;31mSyntaxError\u001b[0m\u001b[1;31m:\u001b[0m invalid syntax\n"
     ]
    }
   ],
   "source": [
    "# Set the account balance\n",
    "user_balance = 1000\n",
    "\n",
    "while True:\n",
    "    # Display the menu\n",
    "    print(\"\\nWelcome to the ATM\")\n",
    "    print(\"1. Check balance\")\n",
    "    print(\"2. Deposit to your bank\")\n",
    "    print(\"3. Withdraw from your balance\")\n",
    "    print(\"4. Exit\")\n",
    "# Get the user choice\n",
    "    choice = input(\"Please select an option(1-4):\")\n",
    "    # Check for the first choice\n",
    "    if choice == \"1\":\n",
    "        print(f\"Your current balance is ${user_balance}\")\n",
    "    # Handle logic to deposit account\n",
    "    elif choice == \"2\":\n",
    "        deposit_amount = float(input(\"Enter an amount to deposit: $\"))\n",
    "        # Check logic for deposit amount greater than 0\n",
    "        if deposit_amount > 0:\n",
    "            user_balance += deposit_amount\n",
    "            print(f\"${deposit_amount} deposited successfully.\")\n",
    "            print(f\"Your balance is ${user_balance}\")\n",
    "        else:\n",
    "            print(\"Invalid deposit amount\")\n",
    "    # Handle logic to withdraw from balance\n",
    "    elif choice == \"3\":\n",
    "        withdraw_amount = float(input(\"Enter amount to withdraw: $\"))\n",
    "        if withdraw_amount > user_balance:\n",
    "            print(\"Insufficient funds\")\n",
    "        elif withdraw_amount <= 0:\n",
    "            print(\"Invalid withdraw amount.\")\n",
    "        else:\n",
    "            user_balance -= withdraw_amount\n",
    "            print(f\"${withdraw_amount} withdrawn successfully.\")\n",
    "            print(f\"New user balance ${user_balance}\")\n",
    "    # Handle logic to exit\n",
    "elif choice == \"4\":\n",
    "\n",
    "\n",
    "\n",
    "                                 \n",
    "        "
   ]
  },
  {
   "cell_type": "markdown",
   "id": "a6cedeff-6340-43d9-8ea4-6dfeb1c8b798",
   "metadata": {},
   "source": [
    "# Assistant\n",
    "The error occurs because of indentation issues in your code. The `elif choice == \"4\":` and the following lines are not properly indented, which causes a syntax error.\n",
    "\n",
    "Would you like me to provide the corrected code?"
   ]
  },
  {
   "cell_type": "markdown",
   "id": "d576d4f9-88fc-4a62-9cea-9c5ce6c3bc50",
   "metadata": {},
   "source": [
    "# User\n",
    "yes"
   ]
  },
  {
   "cell_type": "code",
   "execution_count": 7,
   "id": "50b78834-dbca-4a4d-a31b-6781b9831e8e",
   "metadata": {},
   "outputs": [
    {
     "name": "stdout",
     "output_type": "stream",
     "text": [
      "\n",
      "Welcome to the ATM\n",
      "1. Check balance\n",
      "2. Deposit to your bank\n",
      "3. Withdraw from your balance\n",
      "4. Exit\n"
     ]
    },
    {
     "name": "stdin",
     "output_type": "stream",
     "text": [
      "Please select an option(1-4): 1\n"
     ]
    },
    {
     "name": "stdout",
     "output_type": "stream",
     "text": [
      "Your current balance is $1000\n",
      "\n",
      "Welcome to the ATM\n",
      "1. Check balance\n",
      "2. Deposit to your bank\n",
      "3. Withdraw from your balance\n",
      "4. Exit\n"
     ]
    },
    {
     "name": "stdin",
     "output_type": "stream",
     "text": [
      "Please select an option(1-4): 2\n",
      "Enter an amount to deposit: $ 100\n"
     ]
    },
    {
     "name": "stdout",
     "output_type": "stream",
     "text": [
      "$100.0 deposited successfully.\n",
      "Your balance is $1100.0\n",
      "\n",
      "Welcome to the ATM\n",
      "1. Check balance\n",
      "2. Deposit to your bank\n",
      "3. Withdraw from your balance\n",
      "4. Exit\n"
     ]
    },
    {
     "name": "stdin",
     "output_type": "stream",
     "text": [
      "Please select an option(1-4): 3\n",
      "Enter amount to withdraw: $ 200\n"
     ]
    },
    {
     "name": "stdout",
     "output_type": "stream",
     "text": [
      "$200.0 withdrawn successfully.\n",
      "New user balance $900.0\n",
      "\n",
      "Welcome to the ATM\n",
      "1. Check balance\n",
      "2. Deposit to your bank\n",
      "3. Withdraw from your balance\n",
      "4. Exit\n"
     ]
    },
    {
     "name": "stdin",
     "output_type": "stream",
     "text": [
      "Please select an option(1-4): 4\n"
     ]
    },
    {
     "name": "stdout",
     "output_type": "stream",
     "text": [
      "Thank you for using the ATM, Goodbye.\n"
     ]
    }
   ],
   "source": [
    "# Set the account balance\n",
    "user_balance = 1000\n",
    "\n",
    "while True:\n",
    "    # Display the menu\n",
    "    print(\"\\nWelcome to the ATM\")\n",
    "    print(\"1. Check balance\")\n",
    "    print(\"2. Deposit to your bank\")\n",
    "    print(\"3. Withdraw from your balance\")\n",
    "    print(\"4. Exit\")\n",
    "    # Get the user choice\n",
    "    choice = input(\"Please select an option(1-4):\")\n",
    "    # Check for the first choice\n",
    "    if choice == \"1\":\n",
    "        print(f\"Your current balance is ${user_balance}\")\n",
    "    # Handle logic to deposit account\n",
    "    elif choice == \"2\":\n",
    "        deposit_amount = float(input(\"Enter an amount to deposit: $\"))\n",
    "        # Check logic for deposit amount greater than 0\n",
    "        if deposit_amount > 0:\n",
    "            user_balance += deposit_amount\n",
    "            print(f\"${deposit_amount} deposited successfully.\")\n",
    "            print(f\"Your balance is ${user_balance}\")\n",
    "        else:\n",
    "            print(\"Invalid deposit amount\")\n",
    "    # Handle logic to withdraw from balance\n",
    "    elif choice == \"3\":\n",
    "        withdraw_amount = float(input(\"Enter amount to withdraw: $\"))\n",
    "        if withdraw_amount > user_balance:\n",
    "            print(\"Insufficient funds\")\n",
    "        elif withdraw_amount <= 0:\n",
    "            print(\"Invalid withdraw amount.\")\n",
    "        else:\n",
    "            user_balance -= withdraw_amount\n",
    "            print(f\"${withdraw_amount} withdrawn successfully.\")\n",
    "            print(f\"New user balance ${user_balance}\")\n",
    "    # Handle logic to exit\n",
    "    elif choice == \"4\":\n",
    "        print(\"Thank you for using the ATM, Goodbye.\")\n",
    "        break\n",
    "    else:\n",
    "        print(\"Invalid option,Please try again!\")"
   ]
  },
  {
   "cell_type": "code",
   "execution_count": null,
   "id": "bda1b161-cf4c-4221-8e19-c6d85ffa8422",
   "metadata": {},
   "outputs": [],
   "source": []
  },
  {
   "cell_type": "markdown",
   "id": "07ff02e1-3f38-4d30-a273-b1340041891b",
   "metadata": {},
   "source": [
    "---\n",
    "\n",
    "## **Exercise 3: Guessing Game**\n",
    "\n",
    "### Task:\n",
    "Create a number guessing game where:\n",
    "\n",
    "1. The computer randomly selects a number between 1 and 50.\n",
    "2. The user tries to guess the number.\n",
    "3. If the guess is out of range (not between 1 and 50), print `\"OUT OF BOUNDS\"`.\n",
    "4. If the guess is correct, print `\"Congratulations! You guessed the number!\"` and how many guesses it took.\n",
    "5. If it's the first guess and within 5 numbers of the correct answer, print `\"WARM!\"` else print `\"COLD!\"`.\n",
    "6. For subsequent guesses:\n",
    "   - If the guess is closer than the previous guess, print `\"WARMER!\"`.\n",
    "   - If the guess is farther than the previous guess, print `\"COLDER!\"`.\n",
    "7. Keep looping until the user guesses correctly.\n",
    "\n",
    "### Hints:\n",
    "- Use `random.randint(1, 50)` to generate the random number.\n",
    "- Use `abs()` to calculate the distance between guesses.\n",
    "\n",
    "---"
   ]
  },
  {
   "cell_type": "code",
   "execution_count": null,
   "id": "38000b7c-1d74-4f3b-b351-5c64fea873b7",
   "metadata": {},
   "outputs": [],
   "source": []
  },
  {
   "cell_type": "code",
   "execution_count": null,
   "id": "f1f8c41d-aeeb-4450-a629-bdadeb40c98f",
   "metadata": {},
   "outputs": [],
   "source": []
  },
  {
   "cell_type": "markdown",
   "id": "0afc58e8-7ed0-4aec-b701-4b3c8a384b48",
   "metadata": {},
   "source": [
    "---\n",
    "\n",
    "🚀 **Good luck!**"
   ]
  }
 ],
 "metadata": {
  "kernelspec": {
   "display_name": "Python [conda env:base] *",
   "language": "python",
   "name": "conda-base-py"
  },
  "language_info": {
   "codemirror_mode": {
    "name": "ipython",
    "version": 3
   },
   "file_extension": ".py",
   "mimetype": "text/x-python",
   "name": "python",
   "nbconvert_exporter": "python",
   "pygments_lexer": "ipython3",
   "version": "3.12.7"
  }
 },
 "nbformat": 4,
 "nbformat_minor": 5
}
