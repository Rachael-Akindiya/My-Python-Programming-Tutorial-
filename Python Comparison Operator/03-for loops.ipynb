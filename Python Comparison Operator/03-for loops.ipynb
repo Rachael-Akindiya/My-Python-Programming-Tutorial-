{
 "cells": [
  {
   "cell_type": "markdown",
   "id": "b2a9c425-6063-4def-82ae-05815a77efec",
   "metadata": {},
   "source": [
    "## For Loops"
   ]
  },
  {
   "cell_type": "markdown",
   "id": "9d755164-12aa-44de-8ca4-ae5c5e825253",
   "metadata": {},
   "source": [
    "for item in object:\n",
    "\n",
    "    statement to do stuffs"
   ]
  },
  {
   "cell_type": "markdown",
   "id": "817551d9-dc76-4eb3-a706-9898b5f06ad0",
   "metadata": {},
   "source": [
    "## Example 1\n",
    "Iterate through a list"
   ]
  },
  {
   "cell_type": "code",
   "execution_count": 26,
   "id": "3605c58a-f5ab-47ca-b64f-c3e16e4275c0",
   "metadata": {},
   "outputs": [],
   "source": [
    "list1 = [1, 2, 3, 4, 5, 6, 7, 8, 9, 10]"
   ]
  },
  {
   "cell_type": "code",
   "execution_count": 27,
   "id": "76eb1871-f141-4a77-bd98-789c11e8f406",
   "metadata": {},
   "outputs": [
    {
     "data": {
      "text/plain": [
       "1"
      ]
     },
     "execution_count": 27,
     "metadata": {},
     "output_type": "execute_result"
    }
   ],
   "source": [
    "list1 [0]"
   ]
  },
  {
   "cell_type": "code",
   "execution_count": 28,
   "id": "b4a5b4f8-bba9-4e7c-bac7-4a3f27f7ee76",
   "metadata": {},
   "outputs": [
    {
     "data": {
      "text/plain": [
       "2"
      ]
     },
     "execution_count": 28,
     "metadata": {},
     "output_type": "execute_result"
    }
   ],
   "source": [
    "list1 [1]"
   ]
  },
  {
   "cell_type": "code",
   "execution_count": 29,
   "id": "0f7895c9-4db6-444f-8808-92c348098470",
   "metadata": {},
   "outputs": [
    {
     "name": "stdout",
     "output_type": "stream",
     "text": [
      "1\n",
      "2\n",
      "3\n",
      "4\n",
      "5\n",
      "6\n",
      "7\n",
      "8\n",
      "9\n",
      "10\n"
     ]
    }
   ],
   "source": [
    "for num in list1:\n",
    "    print(num)\n"
   ]
  },
  {
   "cell_type": "code",
   "execution_count": 30,
   "id": "6fd4e578-23f4-4c9f-82b3-f7169eac614a",
   "metadata": {},
   "outputs": [
    {
     "data": {
      "text/plain": [
       "0"
      ]
     },
     "execution_count": 30,
     "metadata": {},
     "output_type": "execute_result"
    }
   ],
   "source": [
    "10 % 2"
   ]
  },
  {
   "cell_type": "code",
   "execution_count": 31,
   "id": "7603bf99-f760-4bb5-bf61-572769534988",
   "metadata": {},
   "outputs": [
    {
     "data": {
      "text/plain": [
       "1"
      ]
     },
     "execution_count": 31,
     "metadata": {},
     "output_type": "execute_result"
    }
   ],
   "source": [
    "7 % 2"
   ]
  },
  {
   "cell_type": "markdown",
   "id": "851a7beb-2506-46ed-a246-825a82c5cf74",
   "metadata": {},
   "source": [
    "##  Example 2\n",
    "\n",
    "Print out the even numbers and odd numbers in the list"
   ]
  },
  {
   "cell_type": "code",
   "execution_count": 32,
   "id": "372a6ae6-eeb0-4bc0-afda-89a56650217f",
   "metadata": {},
   "outputs": [
    {
     "name": "stdout",
     "output_type": "stream",
     "text": [
      "The number 1 is an odd number\n",
      "The number 2 is an even number\n",
      "The number 3 is an odd number\n",
      "The number 4 is an even number\n",
      "The number 5 is an odd number\n",
      "The number 6 is an even number\n",
      "The number 7 is an odd number\n",
      "The number 8 is an even number\n",
      "The number 9 is an odd number\n",
      "The number 10 is an even number\n"
     ]
    }
   ],
   "source": [
    "for num in list1:\n",
    "    if num % 2 == 0:\n",
    "        print(f\"The number {num} is an even number\")\n",
    "    else:\n",
    "        print(f\"The number {num} is an odd number\")"
   ]
  },
  {
   "cell_type": "markdown",
   "id": "11228b44-b2e1-4942-8bff-cba02edf4d10",
   "metadata": {},
   "source": [
    "## Example 3\n",
    "Add all the items in the list togrther and display the result"
   ]
  },
  {
   "cell_type": "code",
   "execution_count": 33,
   "id": "e76311c7-230e-415b-abab-6f905e9e7aeb",
   "metadata": {},
   "outputs": [
    {
     "data": {
      "text/plain": [
       "[1, 2, 3, 4, 5, 6, 7, 8, 9, 10]"
      ]
     },
     "execution_count": 33,
     "metadata": {},
     "output_type": "execute_result"
    }
   ],
   "source": [
    "list1"
   ]
  },
  {
   "cell_type": "code",
   "execution_count": 34,
   "id": "6425fadf-873a-42b4-9c99-e91ea257bbfb",
   "metadata": {},
   "outputs": [],
   "source": [
    "list_sum = 0\n",
    "\n",
    "for num in list1:\n",
    "    list_sum = list_sum + num"
   ]
  },
  {
   "cell_type": "code",
   "execution_count": 35,
   "id": "470a8c25-463b-46de-94e8-a9835e9f9f49",
   "metadata": {},
   "outputs": [
    {
     "name": "stdout",
     "output_type": "stream",
     "text": [
      "55\n"
     ]
    }
   ],
   "source": [
    "print(list_sum)"
   ]
  },
  {
   "cell_type": "markdown",
   "id": "4332e623-167e-40c3-aaa9-6e8655e6f150",
   "metadata": {},
   "source": [
    "## Example 4\n",
    "Let's see how we can use loops with strings"
   ]
  },
  {
   "cell_type": "code",
   "execution_count": 36,
   "id": "5bbff75c-5ff6-4402-aac5-a79aee172e8d",
   "metadata": {},
   "outputs": [
    {
     "name": "stdout",
     "output_type": "stream",
     "text": [
      "T\n",
      "h\n",
      "i\n",
      "s\n",
      " \n",
      "i\n",
      "s\n",
      " \n",
      "a\n",
      " \n",
      "s\n",
      "t\n",
      "r\n",
      "i\n",
      "n\n",
      "g\n"
     ]
    }
   ],
   "source": [
    "for letter in \"This is a string\":\n",
    "    print(letter)"
   ]
  },
  {
   "cell_type": "markdown",
   "id": "8967e12b-0d0c-438f-b823-fa57a74c0ecc",
   "metadata": {},
   "source": [
    "## Example 5\n",
    "Iterate through a tuple and print out the items there"
   ]
  },
  {
   "cell_type": "code",
   "execution_count": 37,
   "id": "fefce393-b929-455a-8e51-a6c91db7a5de",
   "metadata": {},
   "outputs": [
    {
     "name": "stdout",
     "output_type": "stream",
     "text": [
      "1\n",
      "2\n",
      "3\n",
      "4\n",
      "5\n"
     ]
    }
   ],
   "source": [
    "tup = (1, 2, 3, 4, 5)\n",
    "\n",
    "for t in tup:\n",
    "    print(t)\n"
   ]
  },
  {
   "cell_type": "markdown",
   "id": "08e29e83-51b7-4e35-96f1-7356ccbd4120",
   "metadata": {},
   "source": [
    "## Example 6\n",
    "print out all the sum of the even numbers and the odd numbers in a list"
   ]
  },
  {
   "cell_type": "code",
   "execution_count": 38,
   "id": "27965486-d2f7-4807-8359-dd16515bf82b",
   "metadata": {},
   "outputs": [
    {
     "data": {
      "text/plain": [
       "[1, 2, 3, 4, 5, 6, 7, 8, 9, 10]"
      ]
     },
     "execution_count": 38,
     "metadata": {},
     "output_type": "execute_result"
    }
   ],
   "source": [
    "list1"
   ]
  },
  {
   "cell_type": "code",
   "execution_count": 39,
   "id": "5b1dccfe-a86a-40f2-b102-c17ad1bdae53",
   "metadata": {},
   "outputs": [
    {
     "data": {
      "text/plain": [
       "30"
      ]
     },
     "execution_count": 39,
     "metadata": {},
     "output_type": "execute_result"
    }
   ],
   "source": [
    "# doing this the manual way\n",
    "\n",
    "list1[1] + list1[3] + list1[5] + list1[7] + list1[9]"
   ]
  },
  {
   "cell_type": "code",
   "execution_count": 40,
   "id": "79306640-81de-4aa3-996f-0418aecafd96",
   "metadata": {},
   "outputs": [
    {
     "data": {
      "text/plain": [
       "25"
      ]
     },
     "execution_count": 40,
     "metadata": {},
     "output_type": "execute_result"
    }
   ],
   "source": [
    "# doing this the manual way\n",
    "\n",
    "list1[0] + list1[2] + list1[4] +list1[6] + list1[8]"
   ]
  },
  {
   "cell_type": "code",
   "execution_count": 41,
   "id": "e84497ea-a349-41a5-b2f1-ca8edfa83ce0",
   "metadata": {},
   "outputs": [
    {
     "name": "stdout",
     "output_type": "stream",
     "text": [
      "Total even sum is: 30\n",
      "Total odd sum is: 25\n"
     ]
    }
   ],
   "source": [
    "# Using for loop approach\n",
    "even_sum = 0\n",
    "odd_sum = 0\n",
    "\n",
    "for num in list1:\n",
    "    if num % 2 == 0:\n",
    "        even_sum += num  #same as: even_sum = even_sum + num\n",
    "    else:\n",
    "        odd_sum += num\n",
    "\n",
    "print(f\"Total even sum is: {even_sum}\")\n",
    "print(f\"Total odd sum is: {odd_sum}\")"
   ]
  },
  {
   "cell_type": "code",
   "execution_count": 43,
   "id": "cebf5dd2-3f64-42d3-a01c-dcf9e89e4218",
   "metadata": {},
   "outputs": [],
   "source": [
    "list1 = [1, 2, 3, 4, 7, 5, 6, 7, 8, 9, 10]"
   ]
  },
  {
   "cell_type": "code",
   "execution_count": 44,
   "id": "826d17b2-2204-4e73-9fac-9645819e92a7",
   "metadata": {},
   "outputs": [
    {
     "data": {
      "text/plain": [
       "27"
      ]
     },
     "execution_count": 44,
     "metadata": {},
     "output_type": "execute_result"
    }
   ],
   "source": [
    "list1[1] + list1[3] + list1[5] + list1[7] + list1[9]"
   ]
  },
  {
   "cell_type": "code",
   "execution_count": 45,
   "id": "91cf39fe-c723-4e07-8f71-9823b4e54449",
   "metadata": {},
   "outputs": [
    {
     "data": {
      "text/plain": [
       "25"
      ]
     },
     "execution_count": 45,
     "metadata": {},
     "output_type": "execute_result"
    }
   ],
   "source": [
    "list1[0] + list1[2] + list1[4] +list1[6] + list1[8]"
   ]
  },
  {
   "cell_type": "code",
   "execution_count": 46,
   "id": "d786a436-9424-427f-bbe7-56a8d09169c6",
   "metadata": {},
   "outputs": [
    {
     "name": "stdout",
     "output_type": "stream",
     "text": [
      "Total even sum is: 30\n",
      "Total odd sum is: 32\n"
     ]
    }
   ],
   "source": [
    "even_sum = 0\n",
    "odd_sum = 0\n",
    "\n",
    "for num in list1:\n",
    "    if num % 2 == 0:\n",
    "        even_sum += num  #same as: even_sum = even_sum + num\n",
    "    else:\n",
    "        odd_sum += num\n",
    "\n",
    "print(f\"Total even sum is: {even_sum}\")\n",
    "print(f\"Total odd sum is: {odd_sum}\")"
   ]
  },
  {
   "cell_type": "code",
   "execution_count": null,
   "id": "8e210c7e-8444-4b42-8acb-3a13ce20ca7f",
   "metadata": {},
   "outputs": [],
   "source": []
  }
 ],
 "metadata": {
  "kernelspec": {
   "display_name": "Python [conda env:base] *",
   "language": "python",
   "name": "conda-base-py"
  },
  "language_info": {
   "codemirror_mode": {
    "name": "ipython",
    "version": 3
   },
   "file_extension": ".py",
   "mimetype": "text/x-python",
   "name": "python",
   "nbconvert_exporter": "python",
   "pygments_lexer": "ipython3",
   "version": "3.12.7"
  }
 },
 "nbformat": 4,
 "nbformat_minor": 5
}
