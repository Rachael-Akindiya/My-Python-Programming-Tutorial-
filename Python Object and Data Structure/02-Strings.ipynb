{
 "cells": [
  {
   "cell_type": "markdown",
   "id": "8dcbc4b0-1986-4cac-832d-e460bb47dd9a",
   "metadata": {},
   "source": [
    "# Strings\n"
   ]
  },
  {
   "cell_type": "code",
   "execution_count": 1,
   "id": "b245e406-8372-4ea5-8c0c-a64c9a015f95",
   "metadata": {},
   "outputs": [
    {
     "data": {
      "text/plain": [
       "'hello'"
      ]
     },
     "execution_count": 1,
     "metadata": {},
     "output_type": "execute_result"
    }
   ],
   "source": [
    "'hello'"
   ]
  },
  {
   "cell_type": "code",
   "execution_count": 2,
   "id": "9eb14d96-aa6b-4492-b69b-576c773e4a0e",
   "metadata": {},
   "outputs": [
    {
     "data": {
      "text/plain": [
       "'hello'"
      ]
     },
     "execution_count": 2,
     "metadata": {},
     "output_type": "execute_result"
    }
   ],
   "source": [
    "\"hello\""
   ]
  },
  {
   "cell_type": "code",
   "execution_count": 3,
   "id": "7474e472-0d2f-4263-9abb-d5c986d6c5bc",
   "metadata": {},
   "outputs": [
    {
     "data": {
      "text/plain": [
       "'This is also a string'"
      ]
     },
     "execution_count": 3,
     "metadata": {},
     "output_type": "execute_result"
    }
   ],
   "source": [
    "'This is also a string'"
   ]
  },
  {
   "cell_type": "code",
   "execution_count": 4,
   "id": "74a0b774-8550-4119-a855-ef750b846ebc",
   "metadata": {},
   "outputs": [
    {
     "data": {
      "text/plain": [
       "'This is a double quote string'"
      ]
     },
     "execution_count": 4,
     "metadata": {},
     "output_type": "execute_result"
    }
   ],
   "source": [
    "\"This is a double quote string\""
   ]
  },
  {
   "cell_type": "code",
   "execution_count": 5,
   "id": "b1c9630e-3404-478a-af47-676692296245",
   "metadata": {},
   "outputs": [
    {
     "data": {
      "text/plain": [
       "'I am using a single quote'"
      ]
     },
     "execution_count": 5,
     "metadata": {},
     "output_type": "execute_result"
    }
   ],
   "source": [
    "'I am using a single quote'"
   ]
  },
  {
   "cell_type": "code",
   "execution_count": 6,
   "id": "8fb4c754-8e80-4b83-a45b-981a423fed52",
   "metadata": {},
   "outputs": [
    {
     "data": {
      "text/plain": [
       "\"Now i'm ready to use the single quote inside a string\""
      ]
     },
     "execution_count": 6,
     "metadata": {},
     "output_type": "execute_result"
    }
   ],
   "source": [
    "\"Now i'm ready to use the single quote inside a string\""
   ]
  },
  {
   "cell_type": "markdown",
   "id": "b03052d3-f685-4d86-a7db-5404a15078be",
   "metadata": {},
   "source": [
    "#### Print a String"
   ]
  },
  {
   "cell_type": "code",
   "execution_count": 7,
   "id": "80806a20-99c4-43ed-bef5-bc28e8760171",
   "metadata": {},
   "outputs": [
    {
     "data": {
      "text/plain": [
       "'Hello world'"
      ]
     },
     "execution_count": 7,
     "metadata": {},
     "output_type": "execute_result"
    }
   ],
   "source": [
    "\"Hello world\""
   ]
  },
  {
   "cell_type": "code",
   "execution_count": 8,
   "id": "ee651fd9-d8b4-41f8-8ff5-c32fc4d35aeb",
   "metadata": {},
   "outputs": [
    {
     "name": "stdout",
     "output_type": "stream",
     "text": [
      "Hello world\n",
      "Hello Rachael Akindiya\n"
     ]
    }
   ],
   "source": [
    "print(\"Hello world\")\n",
    "print(\"Hello Rachael Akindiya\")"
   ]
  },
  {
   "cell_type": "code",
   "execution_count": 11,
   "id": "977712fc-94ee-4b79-95c9-f0f401041925",
   "metadata": {},
   "outputs": [
    {
     "name": "stdout",
     "output_type": "stream",
     "text": [
      "Use\n",
      " to print a new line\n",
      "\n",
      "\n",
      "\n",
      "\n",
      "See what i mean\n"
     ]
    }
   ],
   "source": [
    "print(\"Use\\n to print a new line\")\n",
    "print(\"\\n\")\n",
    "print(\"\\n\")\n",
    "print(\"See what i mean\")"
   ]
  },
  {
   "cell_type": "code",
   "execution_count": 12,
   "id": "9e8cb8d5-451e-4098-a659-a57f7b068bc1",
   "metadata": {},
   "outputs": [
    {
     "data": {
      "text/plain": [
       "11"
      ]
     },
     "execution_count": 12,
     "metadata": {},
     "output_type": "execute_result"
    }
   ],
   "source": [
    "len(\"Hello world\")"
   ]
  },
  {
   "cell_type": "code",
   "execution_count": 13,
   "id": "ff59f25a-c160-447f-8d8e-b1fde2a651ca",
   "metadata": {},
   "outputs": [],
   "source": [
    "s = \"Hello world\""
   ]
  },
  {
   "cell_type": "code",
   "execution_count": 14,
   "id": "c8944b81-7cdc-4df2-8bfa-4fbdf40a0751",
   "metadata": {},
   "outputs": [
    {
     "data": {
      "text/plain": [
       "'Hello world'"
      ]
     },
     "execution_count": 14,
     "metadata": {},
     "output_type": "execute_result"
    }
   ],
   "source": [
    "s"
   ]
  },
  {
   "cell_type": "code",
   "execution_count": 15,
   "id": "0188615c-bd0b-4f69-8767-1471b5af3810",
   "metadata": {},
   "outputs": [
    {
     "name": "stdout",
     "output_type": "stream",
     "text": [
      "Hello world\n"
     ]
    }
   ],
   "source": [
    "print(s)"
   ]
  },
  {
   "cell_type": "code",
   "execution_count": 16,
   "id": "a035356b-4a0b-4810-bd47-a6da4e77bd46",
   "metadata": {},
   "outputs": [
    {
     "data": {
      "text/plain": [
       "'H'"
      ]
     },
     "execution_count": 16,
     "metadata": {},
     "output_type": "execute_result"
    }
   ],
   "source": [
    "s[0]"
   ]
  },
  {
   "cell_type": "code",
   "execution_count": 17,
   "id": "b5bc38b5-03a8-4310-a7ff-7e0cd6049331",
   "metadata": {},
   "outputs": [
    {
     "data": {
      "text/plain": [
       "'e'"
      ]
     },
     "execution_count": 17,
     "metadata": {},
     "output_type": "execute_result"
    }
   ],
   "source": [
    "s[1]"
   ]
  },
  {
   "cell_type": "code",
   "execution_count": 18,
   "id": "7fdb80f3-c9f0-420e-87c5-f5aaaaa7195b",
   "metadata": {},
   "outputs": [
    {
     "data": {
      "text/plain": [
       "'l'"
      ]
     },
     "execution_count": 18,
     "metadata": {},
     "output_type": "execute_result"
    }
   ],
   "source": [
    "s[2]"
   ]
  },
  {
   "cell_type": "code",
   "execution_count": 19,
   "id": "c7b3303e-441a-46c1-b196-7a064993b13f",
   "metadata": {},
   "outputs": [
    {
     "data": {
      "text/plain": [
       "'ello world'"
      ]
     },
     "execution_count": 19,
     "metadata": {},
     "output_type": "execute_result"
    }
   ],
   "source": [
    "s[1:]"
   ]
  },
  {
   "cell_type": "code",
   "execution_count": 20,
   "id": "a3d0d2dd-3773-41af-9b14-e7677dec3ce5",
   "metadata": {},
   "outputs": [
    {
     "data": {
      "text/plain": [
       "'Hel'"
      ]
     },
     "execution_count": 20,
     "metadata": {},
     "output_type": "execute_result"
    }
   ],
   "source": [
    "s[:3]"
   ]
  },
  {
   "cell_type": "code",
   "execution_count": 21,
   "id": "f14b517e-ed42-4c36-aa1d-44812a22c3a5",
   "metadata": {},
   "outputs": [
    {
     "data": {
      "text/plain": [
       "'Hello world'"
      ]
     },
     "execution_count": 21,
     "metadata": {},
     "output_type": "execute_result"
    }
   ],
   "source": [
    "s[:]"
   ]
  },
  {
   "cell_type": "code",
   "execution_count": 22,
   "id": "05bf94a6-64ba-4e0f-919b-2198a45c5cdb",
   "metadata": {},
   "outputs": [
    {
     "data": {
      "text/plain": [
       "'w'"
      ]
     },
     "execution_count": 22,
     "metadata": {},
     "output_type": "execute_result"
    }
   ],
   "source": [
    "s[6]"
   ]
  },
  {
   "cell_type": "code",
   "execution_count": 23,
   "id": "ecfe7b99-d853-476f-a933-1e1214fd72bb",
   "metadata": {},
   "outputs": [
    {
     "data": {
      "text/plain": [
       "' '"
      ]
     },
     "execution_count": 23,
     "metadata": {},
     "output_type": "execute_result"
    }
   ],
   "source": [
    "s[5]"
   ]
  },
  {
   "cell_type": "code",
   "execution_count": 24,
   "id": "5d7246e3-a18e-4f98-9a40-8fb3e1249f7a",
   "metadata": {},
   "outputs": [
    {
     "data": {
      "text/plain": [
       "'d'"
      ]
     },
     "execution_count": 24,
     "metadata": {},
     "output_type": "execute_result"
    }
   ],
   "source": [
    "s[-1]"
   ]
  },
  {
   "cell_type": "code",
   "execution_count": 25,
   "id": "00dadf3c-7b67-4254-9a96-c0dceb6a5b17",
   "metadata": {},
   "outputs": [
    {
     "data": {
      "text/plain": [
       "'Hello worl'"
      ]
     },
     "execution_count": 25,
     "metadata": {},
     "output_type": "execute_result"
    }
   ],
   "source": [
    "s[:-1]"
   ]
  },
  {
   "cell_type": "code",
   "execution_count": 26,
   "id": "81ced6c4-d17f-484c-9206-aa9bdde2760f",
   "metadata": {},
   "outputs": [
    {
     "data": {
      "text/plain": [
       "'Hello world'"
      ]
     },
     "execution_count": 26,
     "metadata": {},
     "output_type": "execute_result"
    }
   ],
   "source": [
    "s[::1]"
   ]
  },
  {
   "cell_type": "code",
   "execution_count": 27,
   "id": "ad26ffc4-d989-4338-90f4-fdb809ccb60b",
   "metadata": {},
   "outputs": [
    {
     "data": {
      "text/plain": [
       "'Hlowrd'"
      ]
     },
     "execution_count": 27,
     "metadata": {},
     "output_type": "execute_result"
    }
   ],
   "source": [
    "s[::2]"
   ]
  },
  {
   "cell_type": "code",
   "execution_count": 28,
   "id": "a7e1f159-1a2e-46f0-b3ff-c980b788f9ed",
   "metadata": {},
   "outputs": [
    {
     "data": {
      "text/plain": [
       "'dlrow olleH'"
      ]
     },
     "execution_count": 28,
     "metadata": {},
     "output_type": "execute_result"
    }
   ],
   "source": [
    "s[::-1]"
   ]
  },
  {
   "cell_type": "code",
   "execution_count": 43,
   "id": "647a903c-4fb0-487c-a448-66d3d6a60d82",
   "metadata": {},
   "outputs": [],
   "source": [
    "s = \" Hello world\""
   ]
  },
  {
   "cell_type": "code",
   "execution_count": 44,
   "id": "2348d5a9-7b7c-4f9f-9139-f0c3f9067fff",
   "metadata": {},
   "outputs": [
    {
     "name": "stdout",
     "output_type": "stream",
     "text": [
      " Hello world\n"
     ]
    }
   ],
   "source": [
    "print(s)"
   ]
  },
  {
   "cell_type": "code",
   "execution_count": 45,
   "id": "d2368093-19d0-43ee-b437-487892371ede",
   "metadata": {},
   "outputs": [],
   "source": [
    "s = s + \" concatenate me!\""
   ]
  },
  {
   "cell_type": "code",
   "execution_count": 46,
   "id": "75d73a43-4f17-4d1f-a40c-0067dd9c3085",
   "metadata": {},
   "outputs": [
    {
     "name": "stdout",
     "output_type": "stream",
     "text": [
      " Hello world concatenate me!\n"
     ]
    }
   ],
   "source": [
    "print(s)"
   ]
  },
  {
   "cell_type": "code",
   "execution_count": 49,
   "id": "31826785-0a89-4441-b8fd-4fe86f361842",
   "metadata": {},
   "outputs": [],
   "source": [
    "my_name = \" Rachael\""
   ]
  },
  {
   "cell_type": "code",
   "execution_count": 50,
   "id": "a18f9d21-e8db-4a65-bfb2-2abaa595d055",
   "metadata": {},
   "outputs": [
    {
     "data": {
      "text/plain": [
       "'Hello  Rachael'"
      ]
     },
     "execution_count": 50,
     "metadata": {},
     "output_type": "execute_result"
    }
   ],
   "source": [
    "\"Hello \" + my_name"
   ]
  },
  {
   "cell_type": "code",
   "execution_count": 51,
   "id": "6789f200-94c0-4dff-ae8d-d06b073abe9f",
   "metadata": {},
   "outputs": [
    {
     "data": {
      "text/plain": [
       "' Hello world concatenate me!'"
      ]
     },
     "execution_count": 51,
     "metadata": {},
     "output_type": "execute_result"
    }
   ],
   "source": [
    "s"
   ]
  },
  {
   "cell_type": "code",
   "execution_count": 52,
   "id": "a7d72135-39d9-48bd-99d0-985ebe2f190f",
   "metadata": {},
   "outputs": [
    {
     "data": {
      "text/plain": [
       "' HELLO WORLD CONCATENATE ME!'"
      ]
     },
     "execution_count": 52,
     "metadata": {},
     "output_type": "execute_result"
    }
   ],
   "source": [
    "s.upper()"
   ]
  },
  {
   "cell_type": "code",
   "execution_count": 53,
   "id": "139ad4d2-ee02-432d-9eb5-21ffe2fd0d46",
   "metadata": {},
   "outputs": [
    {
     "data": {
      "text/plain": [
       "' hello world concatenate me!'"
      ]
     },
     "execution_count": 53,
     "metadata": {},
     "output_type": "execute_result"
    }
   ],
   "source": [
    "s.lower()"
   ]
  },
  {
   "cell_type": "code",
   "execution_count": 54,
   "id": "e6df3f83-b9a5-4b0f-9131-c56d8aaa88ed",
   "metadata": {},
   "outputs": [
    {
     "data": {
      "text/plain": [
       "['Hello', 'world', 'concatenate', 'me!']"
      ]
     },
     "execution_count": 54,
     "metadata": {},
     "output_type": "execute_result"
    }
   ],
   "source": [
    "s.split()"
   ]
  },
  {
   "cell_type": "code",
   "execution_count": 56,
   "id": "6eb4e52f-4cfd-41a8-aa23-25d92ef074ca",
   "metadata": {},
   "outputs": [
    {
     "data": {
      "text/plain": [
       "[' Hello ', 'orld concatenate me!']"
      ]
     },
     "execution_count": 56,
     "metadata": {},
     "output_type": "execute_result"
    }
   ],
   "source": [
    "s.split(\"w\")"
   ]
  },
  {
   "cell_type": "code",
   "execution_count": null,
   "id": "f654513d-eacb-444d-aa93-3c1c854ad375",
   "metadata": {},
   "outputs": [],
   "source": []
  }
 ],
 "metadata": {
  "kernelspec": {
   "display_name": "Python [conda env:base] *",
   "language": "python",
   "name": "conda-base-py"
  },
  "language_info": {
   "codemirror_mode": {
    "name": "ipython",
    "version": 3
   },
   "file_extension": ".py",
   "mimetype": "text/x-python",
   "name": "python",
   "nbconvert_exporter": "python",
   "pygments_lexer": "ipython3",
   "version": "3.12.7"
  }
 },
 "nbformat": 4,
 "nbformat_minor": 5
}
