{
 "cells": [
  {
   "cell_type": "markdown",
   "id": "a1c91145-6b11-49dd-9ff1-bd0cadeabf90",
   "metadata": {},
   "source": [
    "#### Dictionaries"
   ]
  },
  {
   "cell_type": "code",
   "execution_count": 1,
   "id": "44ff95af-9344-42f0-97a8-110846eb5e72",
   "metadata": {},
   "outputs": [],
   "source": [
    "my_dict ={\"key1\": \"value1\", \"key2\": \"value2\"}"
   ]
  },
  {
   "cell_type": "code",
   "execution_count": 2,
   "id": "a76cb636-2dad-4f92-9f71-1b2bc660f4cd",
   "metadata": {},
   "outputs": [
    {
     "data": {
      "text/plain": [
       "{'key1': 'value1', 'key2': 'value2'}"
      ]
     },
     "execution_count": 2,
     "metadata": {},
     "output_type": "execute_result"
    }
   ],
   "source": [
    "my_dict"
   ]
  },
  {
   "cell_type": "code",
   "execution_count": 4,
   "id": "f0ff3202-54b7-4816-92fb-38ef9109d53e",
   "metadata": {},
   "outputs": [
    {
     "data": {
      "text/plain": [
       "'value2'"
      ]
     },
     "execution_count": 4,
     "metadata": {},
     "output_type": "execute_result"
    }
   ],
   "source": [
    "my_dict[\"key2\"]"
   ]
  },
  {
   "cell_type": "code",
   "execution_count": 5,
   "id": "ee362918-fae4-48e2-b7a9-2caf7e6ec38f",
   "metadata": {},
   "outputs": [],
   "source": [
    "my_dict = {\"key1\": 123, \"key2\":[12, 23, 33], \"key3\":[ \"item0\", \"item1\", \"item2\"]}"
   ]
  },
  {
   "cell_type": "code",
   "execution_count": 6,
   "id": "0b45e347-3701-4731-8a9e-519745fd39aa",
   "metadata": {},
   "outputs": [
    {
     "data": {
      "text/plain": [
       "{'key1': 123, 'key2': [12, 23, 33], 'key3': ['item0', 'item1', 'item2']}"
      ]
     },
     "execution_count": 6,
     "metadata": {},
     "output_type": "execute_result"
    }
   ],
   "source": [
    "my_dict"
   ]
  },
  {
   "cell_type": "code",
   "execution_count": 7,
   "id": "f0f3bdcb-629c-4269-9984-fb102d2f6bde",
   "metadata": {},
   "outputs": [
    {
     "data": {
      "text/plain": [
       "['item0', 'item1', 'item2']"
      ]
     },
     "execution_count": 7,
     "metadata": {},
     "output_type": "execute_result"
    }
   ],
   "source": [
    "my_dict[\"key3\"]"
   ]
  },
  {
   "cell_type": "code",
   "execution_count": 8,
   "id": "23bdad86-6e55-4f43-8529-4ee1f7e82d7a",
   "metadata": {},
   "outputs": [
    {
     "data": {
      "text/plain": [
       "'item0'"
      ]
     },
     "execution_count": 8,
     "metadata": {},
     "output_type": "execute_result"
    }
   ],
   "source": [
    "my_dict[\"key3\"] [0]"
   ]
  },
  {
   "cell_type": "code",
   "execution_count": 9,
   "id": "987df5d6-db28-475d-ab44-c481e6ff8b9e",
   "metadata": {},
   "outputs": [
    {
     "data": {
      "text/plain": [
       "'ITEM0'"
      ]
     },
     "execution_count": 9,
     "metadata": {},
     "output_type": "execute_result"
    }
   ],
   "source": [
    "my_dict[\"key3\"] [0].upper()"
   ]
  },
  {
   "cell_type": "code",
   "execution_count": 10,
   "id": "1e90a7bd-7f31-4af4-bb32-437d263ecb25",
   "metadata": {},
   "outputs": [
    {
     "data": {
      "text/plain": [
       "123"
      ]
     },
     "execution_count": 10,
     "metadata": {},
     "output_type": "execute_result"
    }
   ],
   "source": [
    "my_dict[\"key1\"]"
   ]
  },
  {
   "cell_type": "code",
   "execution_count": 11,
   "id": "3a37a48e-584a-4882-b0d2-565ef828f564",
   "metadata": {},
   "outputs": [],
   "source": [
    "my_dict[\"key1\"] = my_dict[\"key1\"] -123"
   ]
  },
  {
   "cell_type": "code",
   "execution_count": 12,
   "id": "5c05456a-3ada-41d1-a99d-04ea96b0c652",
   "metadata": {},
   "outputs": [
    {
     "data": {
      "text/plain": [
       "0"
      ]
     },
     "execution_count": 12,
     "metadata": {},
     "output_type": "execute_result"
    }
   ],
   "source": [
    "my_dict[\"key1\"]"
   ]
  },
  {
   "cell_type": "code",
   "execution_count": 13,
   "id": "486a07ca-8131-431f-86d8-3ceac384324f",
   "metadata": {},
   "outputs": [],
   "source": [
    "my_dict[\"key1\"] -=123"
   ]
  },
  {
   "cell_type": "code",
   "execution_count": 14,
   "id": "2782a726-2405-4aaa-a276-39c3c36ab827",
   "metadata": {},
   "outputs": [
    {
     "data": {
      "text/plain": [
       "-123"
      ]
     },
     "execution_count": 14,
     "metadata": {},
     "output_type": "execute_result"
    }
   ],
   "source": [
    "my_dict[\"key1\"]"
   ]
  },
  {
   "cell_type": "code",
   "execution_count": 15,
   "id": "1e0a8e51-8bb5-4fe4-8e60-07a9c5acd80d",
   "metadata": {},
   "outputs": [],
   "source": [
    "d ={}"
   ]
  },
  {
   "cell_type": "code",
   "execution_count": 16,
   "id": "3afb55d6-aabf-4f72-9c15-0cfb8f56a271",
   "metadata": {},
   "outputs": [],
   "source": [
    "d[\"animal\"] = \"Dog\""
   ]
  },
  {
   "cell_type": "code",
   "execution_count": 17,
   "id": "e6ad165f-8293-4ec5-a64d-a47869a23516",
   "metadata": {},
   "outputs": [
    {
     "data": {
      "text/plain": [
       "{'animal': 'Dog'}"
      ]
     },
     "execution_count": 17,
     "metadata": {},
     "output_type": "execute_result"
    }
   ],
   "source": [
    "d"
   ]
  },
  {
   "cell_type": "code",
   "execution_count": 18,
   "id": "ef803410-9020-4b8e-8d54-dd94d89361ed",
   "metadata": {},
   "outputs": [],
   "source": [
    "d = {\"key1\" : {\"nestkey\": {\"subnestkey\": \"value\" }}}"
   ]
  },
  {
   "cell_type": "code",
   "execution_count": 19,
   "id": "7a4ef1a0-222f-4c10-b9ba-8cdd9ed3e924",
   "metadata": {},
   "outputs": [
    {
     "data": {
      "text/plain": [
       "'value'"
      ]
     },
     "execution_count": 19,
     "metadata": {},
     "output_type": "execute_result"
    }
   ],
   "source": [
    "d[\"key1\"][\"nestkey\"][\"subnestkey\"]"
   ]
  },
  {
   "cell_type": "code",
   "execution_count": 20,
   "id": "3a099b2d-b6a4-4d56-b82a-b78b5c3fbb04",
   "metadata": {},
   "outputs": [],
   "source": [
    "d = {\"key1\": 1, \"key2\": 2, \"key3\": 3}"
   ]
  },
  {
   "cell_type": "code",
   "execution_count": 21,
   "id": "ba899824-2b2d-4bee-822a-585d2f26354b",
   "metadata": {},
   "outputs": [
    {
     "data": {
      "text/plain": [
       "{'key1': 1, 'key2': 2, 'key3': 3}"
      ]
     },
     "execution_count": 21,
     "metadata": {},
     "output_type": "execute_result"
    }
   ],
   "source": [
    "d"
   ]
  },
  {
   "cell_type": "code",
   "execution_count": 22,
   "id": "df971987-16b6-4129-aab1-94ea806e62b1",
   "metadata": {},
   "outputs": [
    {
     "data": {
      "text/plain": [
       "dict_keys(['key1', 'key2', 'key3'])"
      ]
     },
     "execution_count": 22,
     "metadata": {},
     "output_type": "execute_result"
    }
   ],
   "source": [
    "d.keys()"
   ]
  },
  {
   "cell_type": "code",
   "execution_count": 23,
   "id": "0dabcef8-0a18-4b10-8930-36b2fa3ce9da",
   "metadata": {},
   "outputs": [
    {
     "data": {
      "text/plain": [
       "dict_items([('key1', 1), ('key2', 2), ('key3', 3)])"
      ]
     },
     "execution_count": 23,
     "metadata": {},
     "output_type": "execute_result"
    }
   ],
   "source": [
    "d.items()"
   ]
  },
  {
   "cell_type": "code",
   "execution_count": null,
   "id": "1c0843f7-c2af-4666-9a71-86e349dce781",
   "metadata": {},
   "outputs": [],
   "source": []
  }
 ],
 "metadata": {
  "kernelspec": {
   "display_name": "Python [conda env:base] *",
   "language": "python",
   "name": "conda-base-py"
  },
  "language_info": {
   "codemirror_mode": {
    "name": "ipython",
    "version": 3
   },
   "file_extension": ".py",
   "mimetype": "text/x-python",
   "name": "python",
   "nbconvert_exporter": "python",
   "pygments_lexer": "ipython3",
   "version": "3.12.7"
  }
 },
 "nbformat": 4,
 "nbformat_minor": 5
}
