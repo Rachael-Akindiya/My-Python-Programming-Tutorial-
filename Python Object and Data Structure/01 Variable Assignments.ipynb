{
 "cells": [
  {
   "cell_type": "markdown",
   "id": "5acca97b-42a9-4c85-9843-acc985a4d85b",
   "metadata": {},
   "source": [
    "## Dynamic Typing"
   ]
  },
  {
   "cell_type": "code",
   "execution_count": 1,
   "id": "558e1c8a-51bf-4c62-8a54-251ec8c53ef6",
   "metadata": {},
   "outputs": [],
   "source": [
    "    my_dogs = 2"
   ]
  },
  {
   "cell_type": "code",
   "execution_count": 2,
   "id": "77823514-353c-4bce-af8c-c65e717cf360",
   "metadata": {},
   "outputs": [
    {
     "data": {
      "text/plain": [
       "2"
      ]
     },
     "execution_count": 2,
     "metadata": {},
     "output_type": "execute_result"
    }
   ],
   "source": [
    "my_dogs"
   ]
  },
  {
   "cell_type": "code",
   "execution_count": 3,
   "id": "48c38588-d800-4881-a80d-71c075f024e0",
   "metadata": {},
   "outputs": [],
   "source": [
    "#reassign\n",
    "my_dogs = (\"sammy\" , \"frankie\")"
   ]
  },
  {
   "cell_type": "code",
   "execution_count": 4,
   "id": "1e58b864-a1a8-4101-9df4-945aec40e6e5",
   "metadata": {},
   "outputs": [
    {
     "data": {
      "text/plain": [
       "('sammy', 'frankie')"
      ]
     },
     "execution_count": 4,
     "metadata": {},
     "output_type": "execute_result"
    }
   ],
   "source": [
    "my_dogs"
   ]
  },
  {
   "cell_type": "code",
   "execution_count": 5,
   "id": "8702234f-db64-4e40-97cf-d6f27d2890b1",
   "metadata": {},
   "outputs": [
    {
     "data": {
      "text/plain": [
       "tuple"
      ]
     },
     "execution_count": 5,
     "metadata": {},
     "output_type": "execute_result"
    }
   ],
   "source": [
    "type(my_dogs)"
   ]
  },
  {
   "cell_type": "markdown",
   "id": "6ea2fd2a-23c8-4ba6-bc18-e586da8cc5e2",
   "metadata": {},
   "source": [
    "## Assigning Variables"
   ]
  },
  {
   "cell_type": "code",
   "execution_count": 6,
   "id": "55113f4e-e717-4b54-9cff-040a94a44de6",
   "metadata": {},
   "outputs": [],
   "source": [
    " a = 5"
   ]
  },
  {
   "cell_type": "code",
   "execution_count": 7,
   "id": "073264b8-a52a-47fd-982a-3d5bc07fbba5",
   "metadata": {},
   "outputs": [
    {
     "data": {
      "text/plain": [
       "5"
      ]
     },
     "execution_count": 7,
     "metadata": {},
     "output_type": "execute_result"
    }
   ],
   "source": [
    "a"
   ]
  },
  {
   "cell_type": "code",
   "execution_count": 8,
   "id": "cabbb3e2-2255-4e3d-a508-832cf7521f45",
   "metadata": {},
   "outputs": [],
   "source": [
    "a = a + 5"
   ]
  },
  {
   "cell_type": "code",
   "execution_count": 9,
   "id": "23581587-32c0-49ec-aa35-86cfc180c1db",
   "metadata": {},
   "outputs": [
    {
     "data": {
      "text/plain": [
       "10"
      ]
     },
     "execution_count": 9,
     "metadata": {},
     "output_type": "execute_result"
    }
   ],
   "source": [
    "a"
   ]
  },
  {
   "cell_type": "code",
   "execution_count": 10,
   "id": "338a1931-ad19-4d73-97cd-43102146545c",
   "metadata": {},
   "outputs": [
    {
     "data": {
      "text/plain": [
       "int"
      ]
     },
     "execution_count": 10,
     "metadata": {},
     "output_type": "execute_result"
    }
   ],
   "source": [
    "type(a)"
   ]
  },
  {
   "cell_type": "code",
   "execution_count": 11,
   "id": "4c9270ef-09e0-47e6-b374-2110fa9e93a4",
   "metadata": {},
   "outputs": [
    {
     "data": {
      "text/plain": [
       "10"
      ]
     },
     "execution_count": 11,
     "metadata": {},
     "output_type": "execute_result"
    }
   ],
   "source": [
    "a"
   ]
  },
  {
   "cell_type": "code",
   "execution_count": 12,
   "id": "95a95cb8-b46d-4b4b-9b1d-9d97fc6f2206",
   "metadata": {},
   "outputs": [],
   "source": [
    "a += 10 # a = a + 10"
   ]
  },
  {
   "cell_type": "code",
   "execution_count": 13,
   "id": "70eb974e-de9d-44e1-996d-fcc617b2eaba",
   "metadata": {},
   "outputs": [
    {
     "data": {
      "text/plain": [
       "20"
      ]
     },
     "execution_count": 13,
     "metadata": {},
     "output_type": "execute_result"
    }
   ],
   "source": [
    "a"
   ]
  },
  {
   "cell_type": "code",
   "execution_count": 14,
   "id": "298a93b3-4aef-47d8-b45a-44d441f63f21",
   "metadata": {},
   "outputs": [],
   "source": [
    "b = 3"
   ]
  },
  {
   "cell_type": "code",
   "execution_count": 15,
   "id": "fca2d184-025e-4a54-b2b9-af53761a289d",
   "metadata": {},
   "outputs": [
    {
     "data": {
      "text/plain": [
       "3"
      ]
     },
     "execution_count": 15,
     "metadata": {},
     "output_type": "execute_result"
    }
   ],
   "source": [
    "b"
   ]
  },
  {
   "cell_type": "code",
   "execution_count": 16,
   "id": "4c0a37e1-609d-42db-b7d3-67aea9491fe0",
   "metadata": {},
   "outputs": [],
   "source": [
    "b += 2"
   ]
  },
  {
   "cell_type": "code",
   "execution_count": 17,
   "id": "a05179a7-885d-4bf7-93f6-f01cf4ea6bad",
   "metadata": {},
   "outputs": [
    {
     "data": {
      "text/plain": [
       "5"
      ]
     },
     "execution_count": 17,
     "metadata": {},
     "output_type": "execute_result"
    }
   ],
   "source": [
    "b"
   ]
  },
  {
   "cell_type": "markdown",
   "id": "73c71b9c-fcea-4a96-a03f-b996666177bc",
   "metadata": {},
   "source": [
    "### Determining variable type with type()"
   ]
  },
  {
   "cell_type": "code",
   "execution_count": 18,
   "id": "b6f594c1-f731-427d-820a-180b74573cc6",
   "metadata": {},
   "outputs": [],
   "source": [
    "gpa = 5.0"
   ]
  },
  {
   "cell_type": "code",
   "execution_count": 19,
   "id": "02115961-f3c1-4230-b365-e115dc0180ed",
   "metadata": {},
   "outputs": [
    {
     "data": {
      "text/plain": [
       "float"
      ]
     },
     "execution_count": 19,
     "metadata": {},
     "output_type": "execute_result"
    }
   ],
   "source": [
    "type(gpa)"
   ]
  },
  {
   "cell_type": "code",
   "execution_count": 20,
   "id": "8f5b130f-e92c-4973-bcd4-249aea59c025",
   "metadata": {},
   "outputs": [],
   "source": [
    "salary = 30000"
   ]
  },
  {
   "cell_type": "code",
   "execution_count": 21,
   "id": "771b5dc6-3f73-4baa-a7d1-93b3f95e8746",
   "metadata": {},
   "outputs": [
    {
     "data": {
      "text/plain": [
       "int"
      ]
     },
     "execution_count": 21,
     "metadata": {},
     "output_type": "execute_result"
    }
   ],
   "source": [
    "type(salary)"
   ]
  },
  {
   "cell_type": "markdown",
   "id": "79362361-4643-40e3-83f3-1a33f73d2fa8",
   "metadata": {},
   "source": [
    "## () parenthesis\n",
    "## []  square bracket\n",
    "## {}  curly bracket\n",
    "## <>  angular bracket"
   ]
  },
  {
   "cell_type": "code",
   "execution_count": 38,
   "id": "5348dc84-2c9b-42b3-a908-0ce4a38e39e1",
   "metadata": {},
   "outputs": [],
   "source": [
    "word = 10, 200.3"
   ]
  },
  {
   "cell_type": "code",
   "execution_count": 39,
   "id": "279ade2d-ab35-4295-97a7-ca3bdea15a76",
   "metadata": {},
   "outputs": [
    {
     "data": {
      "text/plain": [
       "tuple"
      ]
     },
     "execution_count": 39,
     "metadata": {},
     "output_type": "execute_result"
    }
   ],
   "source": [
    "type(word)"
   ]
  },
  {
   "cell_type": "code",
   "execution_count": 49,
   "id": "03f388e6-e2d3-48c3-9ab2-858cb317a0f7",
   "metadata": {},
   "outputs": [],
   "source": [
    "word = [5, 9 , 25, 36]"
   ]
  },
  {
   "cell_type": "code",
   "execution_count": 50,
   "id": "42457023-5670-4484-9d2f-acf441b99a09",
   "metadata": {},
   "outputs": [
    {
     "data": {
      "text/plain": [
       "list"
      ]
     },
     "execution_count": 50,
     "metadata": {},
     "output_type": "execute_result"
    }
   ],
   "source": [
    "type(word)"
   ]
  },
  {
   "cell_type": "code",
   "execution_count": 47,
   "id": "731f61ef-2a0c-4d76-87f9-4e1c75830f11",
   "metadata": {},
   "outputs": [],
   "source": [
    "sets = {a,b}"
   ]
  },
  {
   "cell_type": "code",
   "execution_count": 48,
   "id": "8bc27c38-d4ae-411e-bb8e-a7812d4a8d71",
   "metadata": {},
   "outputs": [
    {
     "data": {
      "text/plain": [
       "set"
      ]
     },
     "execution_count": 48,
     "metadata": {},
     "output_type": "execute_result"
    }
   ],
   "source": [
    "type(sets)"
   ]
  },
  {
   "cell_type": "code",
   "execution_count": 56,
   "id": "6512e57d-2e0c-4c3e-9d13-1e6fbeaf3c97",
   "metadata": {},
   "outputs": [],
   "source": [
    "word = 'Sammy' \"2000\""
   ]
  },
  {
   "cell_type": "code",
   "execution_count": 57,
   "id": "8bc6b6f8-8ae3-4b8d-b00c-6a4828f411e0",
   "metadata": {},
   "outputs": [
    {
     "data": {
      "text/plain": [
       "str"
      ]
     },
     "execution_count": 57,
     "metadata": {},
     "output_type": "execute_result"
    }
   ],
   "source": [
    "type(word)"
   ]
  },
  {
   "cell_type": "code",
   "execution_count": 70,
   "id": "d71c537d-777b-4ec9-9f8b-05908bb19609",
   "metadata": {},
   "outputs": [],
   "source": [
    "word = {\"Rachael\" : \"mykey\"}"
   ]
  },
  {
   "cell_type": "code",
   "execution_count": 71,
   "id": "162ae584-23a6-45f9-b8fd-21395cb206a8",
   "metadata": {},
   "outputs": [
    {
     "data": {
      "text/plain": [
       "dict"
      ]
     },
     "execution_count": 71,
     "metadata": {},
     "output_type": "execute_result"
    }
   ],
   "source": [
    "type(word)"
   ]
  },
  {
   "cell_type": "code",
   "execution_count": null,
   "id": "557dedb2-a1e0-4106-84c4-723fede72037",
   "metadata": {},
   "outputs": [],
   "source": []
  }
 ],
 "metadata": {
  "kernelspec": {
   "display_name": "Python [conda env:base] *",
   "language": "python",
   "name": "conda-base-py"
  },
  "language_info": {
   "codemirror_mode": {
    "name": "ipython",
    "version": 3
   },
   "file_extension": ".py",
   "mimetype": "text/x-python",
   "name": "python",
   "nbconvert_exporter": "python",
   "pygments_lexer": "ipython3",
   "version": "3.12.7"
  }
 },
 "nbformat": 4,
 "nbformat_minor": 5
}
