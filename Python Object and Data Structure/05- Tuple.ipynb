{
 "cells": [
  {
   "cell_type": "markdown",
   "id": "fbb8d531-082e-4c67-9de3-00c03b7c1767",
   "metadata": {},
   "source": [
    "### Tuples"
   ]
  },
  {
   "cell_type": "code",
   "execution_count": 1,
   "id": "8d101e38-5245-4325-96a1-6b434c0d089b",
   "metadata": {},
   "outputs": [],
   "source": [
    "t =(1, 2, 3)"
   ]
  },
  {
   "cell_type": "code",
   "execution_count": 2,
   "id": "8628e150-66ee-4fc5-973d-ac25333dbc54",
   "metadata": {},
   "outputs": [
    {
     "data": {
      "text/plain": [
       "3"
      ]
     },
     "execution_count": 2,
     "metadata": {},
     "output_type": "execute_result"
    }
   ],
   "source": [
    "len (t)"
   ]
  },
  {
   "cell_type": "code",
   "execution_count": 3,
   "id": "4ee3a940-47f9-4631-ad94-433b78259981",
   "metadata": {},
   "outputs": [],
   "source": [
    "t = (\"one\", 2)"
   ]
  },
  {
   "cell_type": "code",
   "execution_count": 4,
   "id": "ff59e8e4-6395-4fdb-b45b-7609d386d716",
   "metadata": {},
   "outputs": [
    {
     "data": {
      "text/plain": [
       "('one', 2)"
      ]
     },
     "execution_count": 4,
     "metadata": {},
     "output_type": "execute_result"
    }
   ],
   "source": [
    "t"
   ]
  },
  {
   "cell_type": "code",
   "execution_count": 6,
   "id": "f7134a15-5629-48bb-a9ae-f4315d102a55",
   "metadata": {},
   "outputs": [
    {
     "data": {
      "text/plain": [
       "'one'"
      ]
     },
     "execution_count": 6,
     "metadata": {},
     "output_type": "execute_result"
    }
   ],
   "source": [
    "t [0]"
   ]
  },
  {
   "cell_type": "code",
   "execution_count": 7,
   "id": "b9469048-16c3-4cca-98ae-b2a51dd76bfd",
   "metadata": {},
   "outputs": [
    {
     "data": {
      "text/plain": [
       "2"
      ]
     },
     "execution_count": 7,
     "metadata": {},
     "output_type": "execute_result"
    }
   ],
   "source": [
    "t [-1]"
   ]
  },
  {
   "cell_type": "code",
   "execution_count": 8,
   "id": "9520bd98-48c2-4d63-bd25-6362151db3bc",
   "metadata": {},
   "outputs": [
    {
     "data": {
      "text/plain": [
       "0"
      ]
     },
     "execution_count": 8,
     "metadata": {},
     "output_type": "execute_result"
    }
   ],
   "source": [
    "t.index(\"one\")"
   ]
  },
  {
   "cell_type": "code",
   "execution_count": 9,
   "id": "a565d266-d78a-4563-ac2c-2957cbe08d90",
   "metadata": {},
   "outputs": [
    {
     "data": {
      "text/plain": [
       "1"
      ]
     },
     "execution_count": 9,
     "metadata": {},
     "output_type": "execute_result"
    }
   ],
   "source": [
    "t.count(\"one\")"
   ]
  },
  {
   "cell_type": "code",
   "execution_count": null,
   "id": "915f4055-7df1-4fc2-9f82-ebbbcce130c5",
   "metadata": {},
   "outputs": [],
   "source": []
  }
 ],
 "metadata": {
  "kernelspec": {
   "display_name": "Python [conda env:base] *",
   "language": "python",
   "name": "conda-base-py"
  },
  "language_info": {
   "codemirror_mode": {
    "name": "ipython",
    "version": 3
   },
   "file_extension": ".py",
   "mimetype": "text/x-python",
   "name": "python",
   "nbconvert_exporter": "python",
   "pygments_lexer": "ipython3",
   "version": "3.12.7"
  }
 },
 "nbformat": 4,
 "nbformat_minor": 5
}
