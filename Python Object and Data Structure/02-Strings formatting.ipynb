{
 "cells": [
  {
   "cell_type": "markdown",
   "id": "24f7f36c-8e1f-42b4-95f0-285a5fe5c713",
   "metadata": {},
   "source": [
    "### Using .format method"
   ]
  },
  {
   "cell_type": "code",
   "execution_count": 1,
   "id": "4ff9ba0a-fe91-4f03-9d52-157aafcd1e6d",
   "metadata": {},
   "outputs": [
    {
     "name": "stdout",
     "output_type": "stream",
     "text": [
      "This is a string with an insert\n"
     ]
    }
   ],
   "source": [
    "print(\"This is a string with an {}\" .format(\"insert\"))"
   ]
  },
  {
   "cell_type": "code",
   "execution_count": 2,
   "id": "097070c7-4ff6-4864-9986-e48001627f5a",
   "metadata": {},
   "outputs": [
    {
     "name": "stdout",
     "output_type": "stream",
     "text": [
      "First object 1 , Second object: Two , Third object: 12.3\n"
     ]
    }
   ],
   "source": [
    "print(\"First object {a} , Second object: {b} , Third object: {c}\".format(a=1, b=\"Two\", c=12.3))"
   ]
  },
  {
   "cell_type": "markdown",
   "id": "3ac08372-29af-4f7b-9403-ffb2acdc5154",
   "metadata": {},
   "source": [
    "### Using formatted string literals (f-strings)"
   ]
  },
  {
   "cell_type": "code",
   "execution_count": 4,
   "id": "741ae015-cae4-40ca-ac7e-6d56a77f915e",
   "metadata": {},
   "outputs": [
    {
     "name": "stdout",
     "output_type": "stream",
     "text": [
      "She said her name is Rachael.\n"
     ]
    }
   ],
   "source": [
    "name = \"Rachael\"\n",
    "print(f\"She said her name is {name}.\")"
   ]
  },
  {
   "cell_type": "code",
   "execution_count": 5,
   "id": "81311d74-8cf3-4630-8b0f-d492ad472fd1",
   "metadata": {},
   "outputs": [],
   "source": [
    "age=30\n",
    "cgpa=5.0"
   ]
  },
  {
   "cell_type": "code",
   "execution_count": 6,
   "id": "8885493d-f12c-4a35-b508-ffff374b32c5",
   "metadata": {},
   "outputs": [
    {
     "data": {
      "text/plain": [
       "30"
      ]
     },
     "execution_count": 6,
     "metadata": {},
     "output_type": "execute_result"
    }
   ],
   "source": [
    "age"
   ]
  },
  {
   "cell_type": "code",
   "execution_count": 7,
   "id": "bcf6f8f8-ff24-4e31-85ed-800740358c6a",
   "metadata": {},
   "outputs": [
    {
     "data": {
      "text/plain": [
       "5.0"
      ]
     },
     "execution_count": 7,
     "metadata": {},
     "output_type": "execute_result"
    }
   ],
   "source": [
    "cgpa"
   ]
  },
  {
   "cell_type": "code",
   "execution_count": 9,
   "id": "d178090c-0a0d-4f8d-bfbb-25da8afad83d",
   "metadata": {},
   "outputs": [
    {
     "name": "stdout",
     "output_type": "stream",
     "text": [
      "Rachael is 30 years , and she had cgpa of 5.0 in her 100L first semester.\n"
     ]
    }
   ],
   "source": [
    "print(f\"{name} is {age} years , and she had cgpa of {cgpa} in her 100L first semester.\")"
   ]
  },
  {
   "cell_type": "markdown",
   "id": "3f9ef0c8-fa87-468e-a436-ddfaedc070e0",
   "metadata": {},
   "source": [
    "##### Using Concatenation Method"
   ]
  },
  {
   "cell_type": "code",
   "execution_count": 17,
   "id": "482cc5ac-effa-4bc2-9907-3965ae247e57",
   "metadata": {},
   "outputs": [
    {
     "name": "stdout",
     "output_type": "stream",
     "text": [
      "Rachael is 30 years and she has a cgpa of 5.0 in her 100L first semester.\n"
     ]
    }
   ],
   "source": [
    "print(name + \" is \" + str (age)  +  \" years and she has a cgpa of \" + str (cgpa) + \" in her 100L first semester.\")"
   ]
  },
  {
   "cell_type": "code",
   "execution_count": null,
   "id": "3cc5b032-d014-4828-8173-d15dd8a8201d",
   "metadata": {},
   "outputs": [],
   "source": []
  }
 ],
 "metadata": {
  "kernelspec": {
   "display_name": "Python [conda env:base] *",
   "language": "python",
   "name": "conda-base-py"
  },
  "language_info": {
   "codemirror_mode": {
    "name": "ipython",
    "version": 3
   },
   "file_extension": ".py",
   "mimetype": "text/x-python",
   "name": "python",
   "nbconvert_exporter": "python",
   "pygments_lexer": "ipython3",
   "version": "3.12.7"
  }
 },
 "nbformat": 4,
 "nbformat_minor": 5
}
