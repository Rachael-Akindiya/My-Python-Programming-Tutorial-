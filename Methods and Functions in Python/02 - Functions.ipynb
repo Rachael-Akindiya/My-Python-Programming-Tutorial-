{
 "cells": [
  {
   "cell_type": "markdown",
   "id": "5cd94045-a6fb-4e15-9388-59b36684dac9",
   "metadata": {},
   "source": [
    "## Functions"
   ]
  },
  {
   "cell_type": "code",
   "execution_count": 1,
   "id": "c1019ef8-967f-4959-85e1-840c007a2c64",
   "metadata": {},
   "outputs": [],
   "source": [
    "def name_of_function():\n",
    "    '''\n",
    "    This is where the function's document string goes\n",
    "    when you can call help() on your function it will be printed out\n",
    "    '''\n",
    "    # Do a certain task \n",
    "    #Return a result"
   ]
  },
  {
   "cell_type": "code",
   "execution_count": 17,
   "id": "08864d85-de46-4978-9290-9edb3ca000dd",
   "metadata": {},
   "outputs": [],
   "source": [
    "# Defining a function\n",
    "def say_hello():\n",
    "    print(\"Hello Rachael\")"
   ]
  },
  {
   "cell_type": "code",
   "execution_count": 18,
   "id": "468e9746-02a6-466b-a8f8-5720c80654df",
   "metadata": {},
   "outputs": [
    {
     "name": "stdout",
     "output_type": "stream",
     "text": [
      "Hello Rachael\n"
     ]
    }
   ],
   "source": [
    "# Function called\n",
    "say_hello()"
   ]
  },
  {
   "cell_type": "code",
   "execution_count": 19,
   "id": "06675764-ea08-4d19-9a6b-81586f080de4",
   "metadata": {},
   "outputs": [
    {
     "data": {
      "text/plain": [
       "<function __main__.say_hello()>"
      ]
     },
     "execution_count": 19,
     "metadata": {},
     "output_type": "execute_result"
    }
   ],
   "source": [
    "say_hello"
   ]
  },
  {
   "cell_type": "code",
   "execution_count": 20,
   "id": "0180328f-ac21-4025-9811-501a2f1eaed1",
   "metadata": {},
   "outputs": [],
   "source": [
    " def greetings(name): # Name passed into the function is known as the parameter\n",
    "     print(f\"Hello {name}\")"
   ]
  },
  {
   "cell_type": "code",
   "execution_count": 21,
   "id": "615c5af8-19d1-4681-a428-85ad9a6578ac",
   "metadata": {},
   "outputs": [
    {
     "name": "stdout",
     "output_type": "stream",
     "text": [
      "Hello Rachael\n"
     ]
    }
   ],
   "source": [
    "greetings(\"Rachael\") # argument are data passed into a function when it's being called"
   ]
  },
  {
   "cell_type": "code",
   "execution_count": 22,
   "id": "c982ac31-50d8-4ed5-b039-202130fffab0",
   "metadata": {},
   "outputs": [
    {
     "name": "stdout",
     "output_type": "stream",
     "text": [
      "Hello Preshy\n"
     ]
    }
   ],
   "source": [
    "greetings(\"Preshy\")"
   ]
  },
  {
   "cell_type": "code",
   "execution_count": 30,
   "id": "c513069d-1d52-4ce2-9482-2085f96cc386",
   "metadata": {},
   "outputs": [],
   "source": [
    "# Defining a function that takes in parameter\n",
    "def add_num(num1, num2):\n",
    "    add = num1 + num2\n",
    "    return add"
   ]
  },
  {
   "cell_type": "code",
   "execution_count": 31,
   "id": "8ed8d357-e551-4f03-8ccd-805dc266248e",
   "metadata": {},
   "outputs": [
    {
     "data": {
      "text/plain": [
       "5"
      ]
     },
     "execution_count": 31,
     "metadata": {},
     "output_type": "execute_result"
    }
   ],
   "source": [
    "# Function called passing an argument\n",
    "add_num(2, 3)"
   ]
  },
  {
   "cell_type": "code",
   "execution_count": 32,
   "id": "79838313-ecfe-496b-9736-100716f757af",
   "metadata": {},
   "outputs": [
    {
     "data": {
      "text/plain": [
       "55"
      ]
     },
     "execution_count": 32,
     "metadata": {},
     "output_type": "execute_result"
    }
   ],
   "source": [
    "add_num(10, 45)"
   ]
  },
  {
   "cell_type": "code",
   "execution_count": 33,
   "id": "f3355901-7d4c-4199-90aa-6d5b3db1e84e",
   "metadata": {},
   "outputs": [],
   "source": [
    "result = add_num(5, 7)"
   ]
  },
  {
   "cell_type": "code",
   "execution_count": 34,
   "id": "715330f5-db86-4168-ae6e-14bf3d4ff202",
   "metadata": {},
   "outputs": [
    {
     "name": "stdout",
     "output_type": "stream",
     "text": [
      "12\n"
     ]
    }
   ],
   "source": [
    "print(result)"
   ]
  },
  {
   "cell_type": "code",
   "execution_count": 35,
   "id": "cf632701-6f99-476a-9df7-fa26855b8ff3",
   "metadata": {},
   "outputs": [
    {
     "data": {
      "text/plain": [
       "'onetwo'"
      ]
     },
     "execution_count": 35,
     "metadata": {},
     "output_type": "execute_result"
    }
   ],
   "source": [
    "add_num(\"one\", \"two\")"
   ]
  },
  {
   "cell_type": "code",
   "execution_count": 36,
   "id": "0575ddfc-c3c8-42da-848d-6ec0d38b644a",
   "metadata": {},
   "outputs": [
    {
     "data": {
      "text/plain": [
       "'onetwo'"
      ]
     },
     "execution_count": 36,
     "metadata": {},
     "output_type": "execute_result"
    }
   ],
   "source": [
    "\"one\" + \"two\""
   ]
  },
  {
   "cell_type": "markdown",
   "id": "722fa7ad-cc21-4a06-b1c4-afb7d321fab2",
   "metadata": {},
   "source": [
    "## Very common question: What is the difference between return and print?"
   ]
  },
  {
   "cell_type": "code",
   "execution_count": 39,
   "id": "b441b8f4-8a61-4f4e-b963-d561c31b135b",
   "metadata": {},
   "outputs": [],
   "source": [
    "def print_result(a, b):\n",
    "    print(a+b)"
   ]
  },
  {
   "cell_type": "code",
   "execution_count": 40,
   "id": "d7b36277-c085-447d-bc52-24c06bb216dd",
   "metadata": {},
   "outputs": [],
   "source": [
    "def return_result(a,b):\n",
    "    return a + b"
   ]
  },
  {
   "cell_type": "code",
   "execution_count": 41,
   "id": "3ba28bbd-8cd0-4881-9d6b-67fce8e70643",
   "metadata": {},
   "outputs": [
    {
     "name": "stdout",
     "output_type": "stream",
     "text": [
      "15\n"
     ]
    }
   ],
   "source": [
    "print_result(10, 5)"
   ]
  },
  {
   "cell_type": "code",
   "execution_count": 42,
   "id": "d6d7c49c-8412-4e9a-a0bf-0d288d86faef",
   "metadata": {},
   "outputs": [
    {
     "data": {
      "text/plain": [
       "30"
      ]
     },
     "execution_count": 42,
     "metadata": {},
     "output_type": "execute_result"
    }
   ],
   "source": [
    "# You won't see any output if you run this in .py script\n",
    "return_result(20, 10)"
   ]
  },
  {
   "cell_type": "code",
   "execution_count": 49,
   "id": "a1070e18-5f58-4b50-b5fe-ef592861448c",
   "metadata": {},
   "outputs": [],
   "source": [
    "my_result1 = return_result(30, 20)"
   ]
  },
  {
   "cell_type": "code",
   "execution_count": 50,
   "id": "80fc23b3-f532-4935-9094-73e1b0bb254a",
   "metadata": {},
   "outputs": [
    {
     "data": {
      "text/plain": [
       "50"
      ]
     },
     "execution_count": 50,
     "metadata": {},
     "output_type": "execute_result"
    }
   ],
   "source": [
    "my_result1"
   ]
  },
  {
   "cell_type": "code",
   "execution_count": 46,
   "id": "73bc0841-b90c-4e0a-9a05-e25df712fbc4",
   "metadata": {},
   "outputs": [
    {
     "name": "stdout",
     "output_type": "stream",
     "text": [
      "15\n"
     ]
    }
   ],
   "source": [
    "my_result = print_result(10, 5)"
   ]
  },
  {
   "cell_type": "code",
   "execution_count": 51,
   "id": "d65c1933-a5ac-43ca-9e14-630c0e4bd718",
   "metadata": {},
   "outputs": [
    {
     "data": {
      "text/plain": [
       "int"
      ]
     },
     "execution_count": 51,
     "metadata": {},
     "output_type": "execute_result"
    }
   ],
   "source": [
    "type (my_result1)"
   ]
  },
  {
   "cell_type": "markdown",
   "id": "0da1e6a3-bb61-4179-a242-7f23667c4bfa",
   "metadata": {},
   "source": [
    "## Adding logic to internal function operations"
   ]
  },
  {
   "cell_type": "code",
   "execution_count": 52,
   "id": "4591c3e5-8bcd-4c11-b9de-df2b81b80096",
   "metadata": {},
   "outputs": [
    {
     "data": {
      "text/plain": [
       "0"
      ]
     },
     "execution_count": 52,
     "metadata": {},
     "output_type": "execute_result"
    }
   ],
   "source": [
    "10 % 2"
   ]
  },
  {
   "cell_type": "code",
   "execution_count": 53,
   "id": "4e3542f3-5a32-4078-bb3b-319f2730a0c8",
   "metadata": {},
   "outputs": [
    {
     "data": {
      "text/plain": [
       "1"
      ]
     },
     "execution_count": 53,
     "metadata": {},
     "output_type": "execute_result"
    }
   ],
   "source": [
    "9 % 2"
   ]
  },
  {
   "cell_type": "code",
   "execution_count": 55,
   "id": "65c44459-b702-4c4b-83b8-287239e41313",
   "metadata": {},
   "outputs": [
    {
     "data": {
      "text/plain": [
       "False"
      ]
     },
     "execution_count": 55,
     "metadata": {},
     "output_type": "execute_result"
    }
   ],
   "source": [
    "number = 9\n",
    "number % 2 == 0"
   ]
  },
  {
   "cell_type": "code",
   "execution_count": 56,
   "id": "fbdc5414-f908-407a-8b88-72a292e8df24",
   "metadata": {},
   "outputs": [],
   "source": [
    "# Write a function that checks if a number is even\n",
    "def even_check(number):\n",
    "    return number % 2 == 0"
   ]
  },
  {
   "cell_type": "code",
   "execution_count": 57,
   "id": "4162d018-3089-41e6-a952-4d1d5f06694e",
   "metadata": {},
   "outputs": [
    {
     "data": {
      "text/plain": [
       "True"
      ]
     },
     "execution_count": 57,
     "metadata": {},
     "output_type": "execute_result"
    }
   ],
   "source": [
    "even_check(20)"
   ]
  },
  {
   "cell_type": "code",
   "execution_count": 58,
   "id": "f2168642-fc98-462e-966f-8c935b0e1bee",
   "metadata": {},
   "outputs": [
    {
     "data": {
      "text/plain": [
       "False"
      ]
     },
     "execution_count": 58,
     "metadata": {},
     "output_type": "execute_result"
    }
   ],
   "source": [
    "even_check(17)"
   ]
  },
  {
   "cell_type": "code",
   "execution_count": 59,
   "id": "382ec386-a4be-486b-944e-9d8837ccea90",
   "metadata": {},
   "outputs": [],
   "source": [
    "# Check if any number is even or odd\n",
    "def check_even_odd_number(number):\n",
    "    if number % 2 == 0:\n",
    "        print(f\"{number} is an even number\")\n",
    "    else:\n",
    "        print(f\"{number} is an odd number\")"
   ]
  },
  {
   "cell_type": "code",
   "execution_count": 60,
   "id": "9753956c-fdbe-4c53-a3e6-5d0832f2af0a",
   "metadata": {},
   "outputs": [
    {
     "name": "stdout",
     "output_type": "stream",
     "text": [
      "10 is an even number\n"
     ]
    }
   ],
   "source": [
    "check_even_odd_number(10)"
   ]
  },
  {
   "cell_type": "code",
   "execution_count": 61,
   "id": "5dc92212-bcc6-423c-abe6-fed20242ac7f",
   "metadata": {},
   "outputs": [
    {
     "name": "stdout",
     "output_type": "stream",
     "text": [
      "5 is an odd number\n"
     ]
    }
   ],
   "source": [
    "check_even_odd_number(5)"
   ]
  },
  {
   "cell_type": "code",
   "execution_count": null,
   "id": "58829378-2c20-4672-ac2d-8f236e8cef6b",
   "metadata": {},
   "outputs": [],
   "source": [
    "# Write a code that shows the date of the students expenses tracker\n",
    "import datetime\n",
    "\n",
    "# Create start date \n",
    "Start_date = End_date - datetime.timedelta(days=7)\n",
    "\n",
    "print(\"Start_date:\", Start_date.strftime(\"%x\"))\n",
    "print(\"End_date:\", End_date.strftime(\"%x\"))\n",
    "\n",
    "# Create an expenses category\n",
    "Expenses = []\n",
    "Expenses_items = {\n",
    "    1: \"Enter weekly allowance\",\n",
    "    2: {\"Categories\": [\"1. Feeding\", \"2. Transportation\", \"3. Utilities\"]},\n",
    "    3: \"Select category\",\n",
    "    4: \"Record expenses\",\n",
    "    5: \"Exit\"\n",
    "}\n",
    "\n",
    "\n",
    "# Set student's weekly allowance to be #10,000\n",
    "Student_weekly_all = 10,000\n",
    "\n",
    "while True:\n",
    "    # Display the following categories to the student\n",
    "    print(\"n/Wecome to your expenses tracker\")\n"
   ]
  },
  {
   "cell_type": "code",
   "execution_count": 3,
   "id": "26d4b47a-dc86-4635-9664-00b88f911d0d",
   "metadata": {},
   "outputs": [
    {
     "name": "stdout",
     "output_type": "stream",
     "text": [
      "Student expenses tracker\n"
     ]
    }
   ],
   "source": [
    "cost_expenses()"
   ]
  },
  {
   "cell_type": "code",
   "execution_count": 16,
   "id": "8233909d-ea5e-4eca-adac-5f591af02089",
   "metadata": {},
   "outputs": [
    {
     "name": "stdout",
     "output_type": "stream",
     "text": [
      "06/01/25\n"
     ]
    }
   ],
   "source": [
    "import datetime\n",
    "Start_date = datetime.datetime(2025, 6, 1)\n",
    "print(date.strftime(\"%x\"))"
   ]
  },
  {
   "cell_type": "code",
   "execution_count": null,
   "id": "255571b0-c82a-47a2-a0bf-004732d9c68d",
   "metadata": {},
   "outputs": [],
   "source": []
  }
 ],
 "metadata": {
  "kernelspec": {
   "display_name": "Python [conda env:base] *",
   "language": "python",
   "name": "conda-base-py"
  },
  "language_info": {
   "codemirror_mode": {
    "name": "ipython",
    "version": 3
   },
   "file_extension": ".py",
   "mimetype": "text/x-python",
   "name": "python",
   "nbconvert_exporter": "python",
   "pygments_lexer": "ipython3",
   "version": "3.12.7"
  }
 },
 "nbformat": 4,
 "nbformat_minor": 5
}
