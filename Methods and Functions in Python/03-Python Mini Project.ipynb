{
 "cells": [
  {
   "cell_type": "code",
   "execution_count": 5,
   "id": "af5acb3a-cfd7-47c8-86c0-39d110c3bdfe",
   "metadata": {},
   "outputs": [],
   "source": [
    "# Design and build a mini python project\n",
    "\n",
    "# Building a track of an OAU student weekly expenses who lives off campus.\n",
    "# Weekly expenses covers the following category : Feeding, Transportation, Utilities.\n"
   ]
  },
  {
   "cell_type": "code",
   "execution_count": 16,
   "id": "d671aef6-d01f-46a8-a0b8-760c71624641",
   "metadata": {},
   "outputs": [
    {
     "name": "stdout",
     "output_type": "stream",
     "text": [
      "\n",
      "Welcome to your weekly expenses tracker\n",
      "1. Check weekly allowance balance\n",
      "2. Enter data into the expenses tracker\n",
      "3. Check if records has been sucessfully updated\n",
      "4. Calculate and show total spent on each category\n",
      "5. Exit\n"
     ]
    },
    {
     "name": "stdin",
     "output_type": "stream",
     "text": [
      "Please select an option(1-5):  1\n"
     ]
    },
    {
     "name": "stdout",
     "output_type": "stream",
     "text": [
      "Your current weekly allowance is 10000.\n",
      "\n",
      "Welcome to your weekly expenses tracker\n",
      "1. Check weekly allowance balance\n",
      "2. Enter data into the expenses tracker\n",
      "3. Check if records has been sucessfully updated\n",
      "4. Calculate and show total spent on each category\n",
      "5. Exit\n"
     ]
    },
    {
     "name": "stdin",
     "output_type": "stream",
     "text": [
      "Please select an option(1-5):  2\n",
      "Enter date: (YYYY-MM-DD) 2025-06-07\n"
     ]
    },
    {
     "name": "stdout",
     "output_type": "stream",
     "text": [
      "2025-06-07 has been recorded successfully.\n"
     ]
    },
    {
     "name": "stdin",
     "output_type": "stream",
     "text": [
      "Enter category: Feeding\n"
     ]
    },
    {
     "name": "stdout",
     "output_type": "stream",
     "text": [
      "You've successfully entered: Feeding\n"
     ]
    },
    {
     "name": "stdin",
     "output_type": "stream",
     "text": [
      "Enter amount spent: 4000\n"
     ]
    },
    {
     "name": "stdout",
     "output_type": "stream",
     "text": [
      "4000 deducted from weekly allowance successfully\n",
      "New student weekly allowance is: 6000\n",
      "\n",
      "Welcome to your weekly expenses tracker\n",
      "1. Check weekly allowance balance\n",
      "2. Enter data into the expenses tracker\n",
      "3. Check if records has been sucessfully updated\n",
      "4. Calculate and show total spent on each category\n",
      "5. Exit\n"
     ]
    },
    {
     "name": "stdin",
     "output_type": "stream",
     "text": [
      "Please select an option(1-5):  3\n"
     ]
    },
    {
     "name": "stdout",
     "output_type": "stream",
     "text": [
      "Record has been successfully updated\n",
      "\n",
      "Welcome to your weekly expenses tracker\n",
      "1. Check weekly allowance balance\n",
      "2. Enter data into the expenses tracker\n",
      "3. Check if records has been sucessfully updated\n",
      "4. Calculate and show total spent on each category\n",
      "5. Exit\n"
     ]
    },
    {
     "name": "stdin",
     "output_type": "stream",
     "text": [
      "Please select an option(1-5):  2\n",
      "Enter date: (YYYY-MM-DD) 2025-06-07\n"
     ]
    },
    {
     "name": "stdout",
     "output_type": "stream",
     "text": [
      "2025-06-07 has been recorded successfully.\n"
     ]
    },
    {
     "name": "stdin",
     "output_type": "stream",
     "text": [
      "Enter category: Transportation\n"
     ]
    },
    {
     "name": "stdout",
     "output_type": "stream",
     "text": [
      "You've successfully entered: Transportation\n"
     ]
    },
    {
     "name": "stdin",
     "output_type": "stream",
     "text": [
      "Enter amount spent: 3000\n"
     ]
    },
    {
     "name": "stdout",
     "output_type": "stream",
     "text": [
      "3000 deducted from weekly allowance successfully\n",
      "New student weekly allowance is: 3000\n",
      "\n",
      "Welcome to your weekly expenses tracker\n",
      "1. Check weekly allowance balance\n",
      "2. Enter data into the expenses tracker\n",
      "3. Check if records has been sucessfully updated\n",
      "4. Calculate and show total spent on each category\n",
      "5. Exit\n"
     ]
    },
    {
     "name": "stdin",
     "output_type": "stream",
     "text": [
      "Please select an option(1-5):  3\n"
     ]
    },
    {
     "name": "stdout",
     "output_type": "stream",
     "text": [
      "Record has been successfully updated\n",
      "\n",
      "Welcome to your weekly expenses tracker\n",
      "1. Check weekly allowance balance\n",
      "2. Enter data into the expenses tracker\n",
      "3. Check if records has been sucessfully updated\n",
      "4. Calculate and show total spent on each category\n",
      "5. Exit\n"
     ]
    },
    {
     "name": "stdin",
     "output_type": "stream",
     "text": [
      "Please select an option(1-5):  2\n",
      "Enter date: (YYYY-MM-DD) 2025-06-07\n"
     ]
    },
    {
     "name": "stdout",
     "output_type": "stream",
     "text": [
      "2025-06-07 has been recorded successfully.\n"
     ]
    },
    {
     "name": "stdin",
     "output_type": "stream",
     "text": [
      "Enter category: Utilities\n"
     ]
    },
    {
     "name": "stdout",
     "output_type": "stream",
     "text": [
      "You've successfully entered: Utilities\n"
     ]
    },
    {
     "name": "stdin",
     "output_type": "stream",
     "text": [
      "Enter amount spent: 2000\n"
     ]
    },
    {
     "name": "stdout",
     "output_type": "stream",
     "text": [
      "2000 deducted from weekly allowance successfully\n",
      "New student weekly allowance is: 1000\n",
      "\n",
      "Welcome to your weekly expenses tracker\n",
      "1. Check weekly allowance balance\n",
      "2. Enter data into the expenses tracker\n",
      "3. Check if records has been sucessfully updated\n",
      "4. Calculate and show total spent on each category\n",
      "5. Exit\n"
     ]
    },
    {
     "name": "stdin",
     "output_type": "stream",
     "text": [
      "Please select an option(1-5):  3\n"
     ]
    },
    {
     "name": "stdout",
     "output_type": "stream",
     "text": [
      "Record has been successfully updated\n",
      "\n",
      "Welcome to your weekly expenses tracker\n",
      "1. Check weekly allowance balance\n",
      "2. Enter data into the expenses tracker\n",
      "3. Check if records has been sucessfully updated\n",
      "4. Calculate and show total spent on each category\n",
      "5. Exit\n"
     ]
    },
    {
     "name": "stdin",
     "output_type": "stream",
     "text": [
      "Please select an option(1-5):  4\n"
     ]
    },
    {
     "name": "stdout",
     "output_type": "stream",
     "text": [
      "Total amount spend on all categories: 9000\n",
      "9000 has been deducted from weekly allowance\n",
      "New student weekly allowance is: 1000\n",
      "\n",
      "Welcome to your weekly expenses tracker\n",
      "1. Check weekly allowance balance\n",
      "2. Enter data into the expenses tracker\n",
      "3. Check if records has been sucessfully updated\n",
      "4. Calculate and show total spent on each category\n",
      "5. Exit\n"
     ]
    },
    {
     "name": "stdin",
     "output_type": "stream",
     "text": [
      "Please select an option(1-5):  5\n"
     ]
    },
    {
     "name": "stdout",
     "output_type": "stream",
     "text": [
      "Thank you for choosing and updating this tracker. Bye!\n"
     ]
    }
   ],
   "source": [
    "## Set student weekly allowance and date\n",
    "student_weekly_all = 10000\n",
    "weekend_date = \"2025-06-07\"\n",
    "# List Category\n",
    "category = [\"Feeding\", \"Transportation\", \"Utilities\"]\n",
    "\n",
    "# Assign a value to each category\n",
    "Feeding = 4000\n",
    "Transportation = 3000\n",
    "Utilities = 2000\n",
    "\n",
    "# Defining a function - This function will calculate and show the total spent on each category\n",
    "def add_total_spent(Feeding, Transportation, Utilities):\n",
    "    total = Feeding + Transportation + Utilities\n",
    "    return total\n",
    "\n",
    "while True:\n",
    "    # Display the following menu to the student\n",
    "    print(\"\\nWelcome to your weekly expenses tracker\")\n",
    "    print(\"1. Check weekly allowance balance\")\n",
    "    print(\"2. Enter data into the expenses tracker\")\n",
    "    print(\"3. Check if records has been sucessfully updated\")\n",
    "    print(\"4. Calculate and show total spent on each category\")\n",
    "    print(\"5. Exit\")\n",
    "    \n",
    "    # Obtain student's interest in the menu\n",
    "    student_interest = input(\"Please select an option(1-5): \")\n",
    "\n",
    "    # Check for the first choice\n",
    "    if student_interest == \"1\":\n",
    "        print(f\"Your current weekly allowance is {student_weekly_all}.\")\n",
    "\n",
    "    # Handle logic to enter data into the expenses tracker\n",
    "    elif student_interest == \"2\":\n",
    "        # Ask student to input the following information\n",
    "        expenses_date = input(\"Enter date: (YYYY-MM-DD)\")\n",
    "        if expenses_date == weekend_date:\n",
    "            print(f\"{expenses_date} has been recorded successfully.\")\n",
    "        else:\n",
    "            print(\"The date you entered does not match the weekend date.\")\n",
    "        \n",
    "        # Ask student to select category\n",
    "        expenses_category = input(\"Enter category:\")\n",
    "        print(f\"You've successfully entered: {expenses_category}\")\n",
    "        \n",
    "        # Proceed to enter the amount spent on the expenses category above # Check logic for amount < 0\n",
    "        amount = int(input(\"Enter amount spent:\"))\n",
    "        if amount > student_weekly_all:\n",
    "            print(\"Insufficient weekly allowance\")\n",
    "        else:\n",
    "            student_weekly_all -= amount\n",
    "            print(f\"{amount} deducted from weekly allowance successfully\")\n",
    "            print(f\"New student weekly allowance is: {student_weekly_all}\")\n",
    "\n",
    "    # Handle logic to check if records has been updated\n",
    "    elif student_interest == \"3\":\n",
    "        print(\"Record has been successfully updated\")\n",
    "\n",
    "    # Handle logic to call function - to calculate and show total spent on each category\n",
    "    elif student_interest == \"4\":\n",
    "        total_spent = add_total_spent(4000, 3000, 2000)\n",
    "        print(f\"Total amount spend on all categories: {total_spent}\")\n",
    "        print(f\"{total_spent} has been deducted from weekly allowance\")\n",
    "        print(f\"New student weekly allowance is: {student_weekly_all}\")\n",
    "\n",
    "    # Handle logic to exit\n",
    "    elif student_interest == \"5\":\n",
    "        print(\"Thank you for choosing and updating this tracker. Bye!\")\n",
    "        break\n",
    "    else:\n",
    "        print(\"Invalid input. Please try again!\")\n"
   ]
  },
  {
   "cell_type": "code",
   "execution_count": null,
   "id": "87c06443-af43-42e0-b551-a3b16c5f8a17",
   "metadata": {},
   "outputs": [],
   "source": []
  }
 ],
 "metadata": {
  "kernelspec": {
   "display_name": "Python [conda env:base] *",
   "language": "python",
   "name": "conda-base-py"
  },
  "language_info": {
   "codemirror_mode": {
    "name": "ipython",
    "version": 3
   },
   "file_extension": ".py",
   "mimetype": "text/x-python",
   "name": "python",
   "nbconvert_exporter": "python",
   "pygments_lexer": "ipython3",
   "version": "3.12.7"
  }
 },
 "nbformat": 4,
 "nbformat_minor": 5
}
