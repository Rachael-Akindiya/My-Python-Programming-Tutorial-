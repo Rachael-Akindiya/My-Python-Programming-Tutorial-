{
 "cells": [
  {
   "cell_type": "markdown",
   "id": "30216589-e39d-4c97-aef0-8f8e5eba009c",
   "metadata": {},
   "source": [
    "## Introduction to Python Statements"
   ]
  },
  {
   "cell_type": "markdown",
   "id": "ed1d883f-1761-4bbc-8ac8-e5b086f91c89",
   "metadata": {},
   "source": [
    "#### Python vs Other Languages"
   ]
  },
  {
   "cell_type": "markdown",
   "id": "743c7d82-9d43-4365-9160-38495cf7e6d3",
   "metadata": {},
   "source": [
    "###### Python gets rid of () and {} by incorporating two main factors : a colon and whitespace. The statement is ended with a colon and whitespace is used (indentation) to describe what takes place in case of the statement."
   ]
  },
  {
   "cell_type": "markdown",
   "id": "73d89681-e5a7-464e-9df1-eaa6058856d3",
   "metadata": {},
   "source": [
    "###### Lack of semi-colon in Python. Semi-colons are used to denote statement endings in other languages, but in python the end of a line is the same as the end of a statement."
   ]
  },
  {
   "cell_type": "markdown",
   "id": "7c55a850-17bf-47c8-921d-2422ca333c0a",
   "metadata": {},
   "source": [
    "### Indentation"
   ]
  },
  {
   "cell_type": "markdown",
   "id": "3ace792d-6e1d-491a-a96a-f4eab5533164",
   "metadata": {},
   "source": [
    "#### Other languages"
   ]
  },
  {
   "cell_type": "markdown",
   "id": "acc1fb04-7266-4052-b101-b90f206a970f",
   "metadata": {},
   "source": [
    "If (x)\n",
    "   \n",
    "     If (y)\n",
    "   \n",
    "      code-statement\n",
    "\n",
    "else \n",
    "   \n",
    "     another-code-statement"
   ]
  },
  {
   "cell_type": "markdown",
   "id": "1e9ad8b9-bd33-46d5-89b9-605da3923514",
   "metadata": {},
   "source": [
    "#### Python"
   ]
  },
  {
   "cell_type": "code",
   "execution_count": null,
   "id": "d911e666-ef79-4664-9f82-e4df7e3c8c41",
   "metadata": {},
   "outputs": [],
   "source": [
    "if x :\n",
    "    if y :\n",
    "        code-statement\n",
    "\n",
    "else:"
   ]
  }
 ],
 "metadata": {
  "kernelspec": {
   "display_name": "Python [conda env:base] *",
   "language": "python",
   "name": "conda-base-py"
  },
  "language_info": {
   "codemirror_mode": {
    "name": "ipython",
    "version": 3
   },
   "file_extension": ".py",
   "mimetype": "text/x-python",
   "name": "python",
   "nbconvert_exporter": "python",
   "pygments_lexer": "ipython3",
   "version": "3.12.7"
  }
 },
 "nbformat": 4,
 "nbformat_minor": 5
}
