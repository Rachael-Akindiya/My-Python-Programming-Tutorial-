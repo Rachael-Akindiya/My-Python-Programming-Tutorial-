{
 "cells": [
  {
   "cell_type": "markdown",
   "id": "e1358b61-9271-4dad-a7c2-d741b71772a5",
   "metadata": {},
   "source": [
    "## if elifs and else"
   ]
  },
  {
   "cell_type": "markdown",
   "id": "1276ea34-e4e9-468e-ab67-f70e8cb35add",
   "metadata": {},
   "source": [
    " if case 1:\n",
    " \n",
    "    performs action 1\n",
    "\n",
    "elif case 2:\n",
    "\n",
    "     performs action 2\n",
    "\n",
    "else case 3:\n",
    "     \n",
    "     performs action 3"
   ]
  },
  {
   "cell_type": "code",
   "execution_count": 2,
   "id": "d0d1352f-cb58-4278-8681-5247051018ef",
   "metadata": {},
   "outputs": [
    {
     "name": "stdout",
     "output_type": "stream",
     "text": [
      "It was True\n"
     ]
    }
   ],
   "source": [
    "if True:\n",
    "    print(\"It was True\")"
   ]
  },
  {
   "cell_type": "code",
   "execution_count": 4,
   "id": "c770036b-5178-4dcb-be4b-f7aa95190306",
   "metadata": {},
   "outputs": [
    {
     "name": "stdout",
     "output_type": "stream",
     "text": [
      "I will be printed out incase the result is false\n"
     ]
    }
   ],
   "source": [
    "result = False\n",
    "\n",
    "if result:\n",
    "    print(\"Result was True\")\n",
    "\n",
    "else:\n",
    "    print(\"I will be printed out incase the result is false\")"
   ]
  },
  {
   "cell_type": "code",
   "execution_count": 9,
   "id": "b9b0cec5-4eb2-4135-a503-91d62c1a76a4",
   "metadata": {},
   "outputs": [
    {
     "name": "stdin",
     "output_type": "stream",
     "text": [
      "please enter the location you want to withdraw from: bank\n"
     ]
    },
    {
     "name": "stdout",
     "output_type": "stream",
     "text": [
      "Your location is: bank\n",
      "Welcome to the Bank\n"
     ]
    }
   ],
   "source": [
    "# check if a user wants to deposit from a bank, we just display welcome to the bank\n",
    "\n",
    "loc = input(\"please enter the location you want to withdraw from:\")\n",
    "print(f\"Your location is: {loc}\")\n",
    "if loc == \"pos\":\n",
    "    print(\"Welcome to the POS terminal\")\n",
    "# more statements that has to do with POS can go here\n",
    "elif loc == \"bank\":\n",
    "    print(\"Welcome to the Bank\")\n",
    "else:\n",
    "    print(\"Where are you?\")\n"
   ]
  },
  {
   "cell_type": "code",
   "execution_count": 10,
   "id": "c23566be-9bc9-48d7-b62e-eef3a3849081",
   "metadata": {},
   "outputs": [
    {
     "name": "stdout",
     "output_type": "stream",
     "text": [
      "Welcome Rachael\n"
     ]
    }
   ],
   "source": [
    "person = \"Rachael\"\n",
    "\n",
    "if person == \"Rachael\":\n",
    "    print(\"Welcome Rachael\")\n",
    "\n",
    "else:\n",
    "    print(\"Welcome, What's your name?\")"
   ]
  },
  {
   "cell_type": "code",
   "execution_count": 14,
   "id": "c6495bef-c58c-403f-a979-cb74c0afb1d7",
   "metadata": {},
   "outputs": [
    {
     "name": "stdin",
     "output_type": "stream",
     "text": [
      "Enter a number to check if its Even or Odd 22\n"
     ]
    },
    {
     "name": "stdout",
     "output_type": "stream",
     "text": [
      "The number 22 you entered is an even number!\n"
     ]
    }
   ],
   "source": [
    "# Write a python code to check if the user input is Even or Odd number\n",
    "user_input = int(input(\"Enter a number to check if its Even or Odd\"))\n",
    "\n",
    "if user_input % 2 == 0:\n",
    "    print(f\"The number {user_input} you entered is an even number!\")\n",
    "else:\n",
    "    print(f\"The number {user_input} user entered is an odd number\")"
   ]
  },
  {
   "cell_type": "code",
   "execution_count": 15,
   "id": "5c5b17b3-425a-4e0e-bc7f-19d967715263",
   "metadata": {},
   "outputs": [
    {
     "name": "stdin",
     "output_type": "stream",
     "text": [
      "Enter a number: 25\n"
     ]
    },
    {
     "name": "stdout",
     "output_type": "stream",
     "text": [
      "The number is: 25\n",
      "The number 25 you entered is Positive.\n"
     ]
    }
   ],
   "source": [
    "# Write a python code to determine if a number is Positive , Negative or Neutral.\n",
    "user_num = int(input(\"Enter a number:\"))\n",
    "print(f\"The number is: {user_num}\")\n",
    "if user_num > 10:\n",
    "    print(f\"The number {user_num} you entered is Positive.\")\n",
    "elif user_num < 10:\n",
    "    print(f\"The number {user_num} you entered is Negative.\")\n",
    "else:\n",
    "    print(f\"The number {user_num} you entered is Neutral.\")"
   ]
  },
  {
   "cell_type": "code",
   "execution_count": 14,
   "id": "1aec5a19-58e6-4843-abd7-9ee47b7e05ef",
   "metadata": {},
   "outputs": [
    {
     "name": "stdin",
     "output_type": "stream",
     "text": [
      "Enter a number: 9\n"
     ]
    },
    {
     "name": "stdout",
     "output_type": "stream",
     "text": [
      "The number is: 9\n",
      "The number 9 you entered is Negative!\n"
     ]
    }
   ],
   "source": [
    "# Write a python code to determine if a number is Postive, Negative or Neutral.\n",
    "user_num = int(input(\"Enter a number:\"))\n",
    "print(f\"The number is: {user_num}\")\n",
    "if user_num > 10:\n",
    "    print(f\"The number {user_num} you entered is Positive!\")\n",
    "elif user_num < 10:\n",
    "    print(f\"The number {user_num} you entered is Negative!\")\n",
    "else:\n",
    "    print(f\"The number {user_num} you entered is Neutral.\")\n",
    "    "
   ]
  },
  {
   "cell_type": "code",
   "execution_count": 13,
   "id": "cddb182d-8fa5-478b-ae1a-83dfbbc0e552",
   "metadata": {},
   "outputs": [
    {
     "name": "stdin",
     "output_type": "stream",
     "text": [
      "Enter a number: 10\n"
     ]
    },
    {
     "name": "stdout",
     "output_type": "stream",
     "text": [
      "The number is: 10\n",
      "The number 10 you entered is Neutral.\n"
     ]
    }
   ],
   "source": [
    "# Write a python code to determine if a number is Postive, Negative or Neutral.\n",
    "user_num = int(input(\"Enter a number:\"))\n",
    "print(f\"The number is: {user_num}\")\n",
    "if user_num > 10:\n",
    "    print(f\"The number {user_num} you entered is Positive!\")\n",
    "elif user_num < 10:\n",
    "    print(f\"The number {user_num} you entered is Negative!\")\n",
    "else:\n",
    "    print(f\"The number {user_num} you entered is Neutral.\")\n"
   ]
  },
  {
   "cell_type": "code",
   "execution_count": null,
   "id": "5505a9e3-d334-4cb0-b3cb-04b2c123342f",
   "metadata": {},
   "outputs": [],
   "source": []
  }
 ],
 "metadata": {
  "kernelspec": {
   "display_name": "Python [conda env:base] *",
   "language": "python",
   "name": "conda-base-py"
  },
  "language_info": {
   "codemirror_mode": {
    "name": "ipython",
    "version": 3
   },
   "file_extension": ".py",
   "mimetype": "text/x-python",
   "name": "python",
   "nbconvert_exporter": "python",
   "pygments_lexer": "ipython3",
   "version": "3.12.7"
  }
 },
 "nbformat": 4,
 "nbformat_minor": 5
}
